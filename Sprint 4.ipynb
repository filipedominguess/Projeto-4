{
 "cells": [
  {
   "cell_type": "markdown",
   "id": "72ae86a1",
   "metadata": {},
   "source": [
    "# Quais dos planos pré-pagos dão mais receita?"
   ]
  },
  {
   "cell_type": "markdown",
   "id": "74c5d073",
   "metadata": {},
   "source": [
    "Você trabalha como analista para a empresa de telecomunicações Megaline. TA empresa oferece aos seus cliente planos pré-pagos, Surf e Ultimate. O departamento comercial quer saber quais dos planos dão mais receita para ajustar o orçamento de publicidade.\n",
    "Você vai realizar uma primeira análise dos planos baseados em uma pequena seleção de clientes. Você terá dados de 500 clientes da Megaline: que clientes são, de onde eles são, qual plano usam, o número de chamadas que eles fizeram e mensagens que eles enviaram em 2018. O seu trabalho é analisar o comportamento dos clientes e determinar quais planos pré-pagos dão mais receita."
   ]
  },
  {
   "cell_type": "markdown",
   "id": "dbd69032",
   "metadata": {},
   "source": [
    "Obs: A Megaline arredonda segundos para minutos, e megabytes para gigabytes. Para chamadas, cada chamada individual é arredondada para cima: mesmo se uma chamada tenha durado apenas um segundo, será contado como um minuto. Para trafego de web, sessões individuais de web não são arredondadas para cima. Ao invés disso, o total do mês é arredondado para cima. Se alguém usar 1025 megabytes esse mês, eles serão cobrados por 2 gigabytes."
   ]
  },
  {
   "cell_type": "markdown",
   "id": "bbe66831",
   "metadata": {},
   "source": [
    "## Inicialização"
   ]
  },
  {
   "cell_type": "markdown",
   "id": "223bafc0",
   "metadata": {},
   "source": [
    "**Bibliotecas usadas no projeto.**"
   ]
  },
  {
   "cell_type": "code",
   "execution_count": 1,
   "id": "f7d3e350",
   "metadata": {},
   "outputs": [],
   "source": [
    "# Para manipulação dos dados\n",
    "import pandas as pd \n",
    "# Para estatisticas \n",
    "from scipy import stats as st \n",
    "# Para gráficos\n",
    "import matplotlib.pyplot as plt \n",
    "# Para operações matemáticas\n",
    "import numpy as np "
   ]
  },
  {
   "cell_type": "markdown",
   "id": "81ba18c6",
   "metadata": {},
   "source": [
    "## Carregando os dados"
   ]
  },
  {
   "cell_type": "markdown",
   "id": "6d67554a",
   "metadata": {},
   "source": [
    "**Leitura dos arquivos que serão utilizados.**"
   ]
  },
  {
   "cell_type": "code",
   "execution_count": 2,
   "id": "aa7fe559",
   "metadata": {},
   "outputs": [],
   "source": [
    "try:\n",
    "    calls = pd.read_csv('/datasets/megaline_calls.csv')\n",
    "    internet = pd.read_csv('/datasets/megaline_internet.csv')\n",
    "    messages = pd.read_csv('/datasets/megaline_messages.csv')\n",
    "    plans = pd.read_csv('/datasets/megaline_plans.csv')\n",
    "    users = pd.read_csv('/datasets/megaline_users.csv')\n",
    "except:\n",
    "    calls = pd.read_csv('megaline_calls.csv')\n",
    "    internet = pd.read_csv('megaline_internet.csv')\n",
    "    messages = pd.read_csv('megaline_messages.csv')\n",
    "    plans = pd.read_csv('megaline_plans.csv')\n",
    "    users = pd.read_csv('megaline_users.csv')"
   ]
  },
  {
   "cell_type": "markdown",
   "id": "87ec1085",
   "metadata": {},
   "source": [
    "## Visualização dos dados"
   ]
  },
  {
   "cell_type": "markdown",
   "id": "aee036b1",
   "metadata": {},
   "source": [
    "**Uma olhada nas informações gerais.**"
   ]
  },
  {
   "cell_type": "markdown",
   "id": "16daf5ea",
   "metadata": {},
   "source": [
    "### A tabela `calls` (dados sobre as chamadas)\n",
    "- `id` — identificador de chamada unívoco\n",
    "- `call_date` — data da chamada\n",
    "- `duration` — duração da chamada (em minutos)\n",
    "- `user_id` — o identificador do usuário que faz a chamada"
   ]
  },
  {
   "cell_type": "code",
   "execution_count": 3,
   "id": "fb31ffdb",
   "metadata": {},
   "outputs": [
    {
     "data": {
      "text/html": [
       "<div>\n",
       "<style scoped>\n",
       "    .dataframe tbody tr th:only-of-type {\n",
       "        vertical-align: middle;\n",
       "    }\n",
       "\n",
       "    .dataframe tbody tr th {\n",
       "        vertical-align: top;\n",
       "    }\n",
       "\n",
       "    .dataframe thead th {\n",
       "        text-align: right;\n",
       "    }\n",
       "</style>\n",
       "<table border=\"1\" class=\"dataframe\">\n",
       "  <thead>\n",
       "    <tr style=\"text-align: right;\">\n",
       "      <th></th>\n",
       "      <th>id</th>\n",
       "      <th>user_id</th>\n",
       "      <th>call_date</th>\n",
       "      <th>duration</th>\n",
       "    </tr>\n",
       "  </thead>\n",
       "  <tbody>\n",
       "    <tr>\n",
       "      <th>0</th>\n",
       "      <td>1000_93</td>\n",
       "      <td>1000</td>\n",
       "      <td>2018-12-27</td>\n",
       "      <td>8.52</td>\n",
       "    </tr>\n",
       "    <tr>\n",
       "      <th>1</th>\n",
       "      <td>1000_145</td>\n",
       "      <td>1000</td>\n",
       "      <td>2018-12-27</td>\n",
       "      <td>13.66</td>\n",
       "    </tr>\n",
       "    <tr>\n",
       "      <th>2</th>\n",
       "      <td>1000_247</td>\n",
       "      <td>1000</td>\n",
       "      <td>2018-12-27</td>\n",
       "      <td>14.48</td>\n",
       "    </tr>\n",
       "    <tr>\n",
       "      <th>3</th>\n",
       "      <td>1000_309</td>\n",
       "      <td>1000</td>\n",
       "      <td>2018-12-28</td>\n",
       "      <td>5.76</td>\n",
       "    </tr>\n",
       "    <tr>\n",
       "      <th>4</th>\n",
       "      <td>1000_380</td>\n",
       "      <td>1000</td>\n",
       "      <td>2018-12-30</td>\n",
       "      <td>4.22</td>\n",
       "    </tr>\n",
       "    <tr>\n",
       "      <th>5</th>\n",
       "      <td>1000_388</td>\n",
       "      <td>1000</td>\n",
       "      <td>2018-12-31</td>\n",
       "      <td>2.20</td>\n",
       "    </tr>\n",
       "    <tr>\n",
       "      <th>6</th>\n",
       "      <td>1000_510</td>\n",
       "      <td>1000</td>\n",
       "      <td>2018-12-27</td>\n",
       "      <td>5.75</td>\n",
       "    </tr>\n",
       "    <tr>\n",
       "      <th>7</th>\n",
       "      <td>1000_521</td>\n",
       "      <td>1000</td>\n",
       "      <td>2018-12-28</td>\n",
       "      <td>14.18</td>\n",
       "    </tr>\n",
       "    <tr>\n",
       "      <th>8</th>\n",
       "      <td>1000_530</td>\n",
       "      <td>1000</td>\n",
       "      <td>2018-12-28</td>\n",
       "      <td>5.77</td>\n",
       "    </tr>\n",
       "    <tr>\n",
       "      <th>9</th>\n",
       "      <td>1000_544</td>\n",
       "      <td>1000</td>\n",
       "      <td>2018-12-26</td>\n",
       "      <td>4.40</td>\n",
       "    </tr>\n",
       "  </tbody>\n",
       "</table>\n",
       "</div>"
      ],
      "text/plain": [
       "         id  user_id   call_date  duration\n",
       "0   1000_93     1000  2018-12-27      8.52\n",
       "1  1000_145     1000  2018-12-27     13.66\n",
       "2  1000_247     1000  2018-12-27     14.48\n",
       "3  1000_309     1000  2018-12-28      5.76\n",
       "4  1000_380     1000  2018-12-30      4.22\n",
       "5  1000_388     1000  2018-12-31      2.20\n",
       "6  1000_510     1000  2018-12-27      5.75\n",
       "7  1000_521     1000  2018-12-28     14.18\n",
       "8  1000_530     1000  2018-12-28      5.77\n",
       "9  1000_544     1000  2018-12-26      4.40"
      ]
     },
     "execution_count": 3,
     "metadata": {},
     "output_type": "execute_result"
    }
   ],
   "source": [
    "calls.head(10)"
   ]
  },
  {
   "cell_type": "code",
   "execution_count": 4,
   "id": "0a1dd9c3",
   "metadata": {},
   "outputs": [
    {
     "data": {
      "text/html": [
       "<div>\n",
       "<style scoped>\n",
       "    .dataframe tbody tr th:only-of-type {\n",
       "        vertical-align: middle;\n",
       "    }\n",
       "\n",
       "    .dataframe tbody tr th {\n",
       "        vertical-align: top;\n",
       "    }\n",
       "\n",
       "    .dataframe thead th {\n",
       "        text-align: right;\n",
       "    }\n",
       "</style>\n",
       "<table border=\"1\" class=\"dataframe\">\n",
       "  <thead>\n",
       "    <tr style=\"text-align: right;\">\n",
       "      <th></th>\n",
       "      <th>id</th>\n",
       "      <th>user_id</th>\n",
       "      <th>call_date</th>\n",
       "      <th>duration</th>\n",
       "    </tr>\n",
       "  </thead>\n",
       "  <tbody>\n",
       "    <tr>\n",
       "      <th>137725</th>\n",
       "      <td>1499_194</td>\n",
       "      <td>1499</td>\n",
       "      <td>2018-10-31</td>\n",
       "      <td>0.00</td>\n",
       "    </tr>\n",
       "    <tr>\n",
       "      <th>137726</th>\n",
       "      <td>1499_195</td>\n",
       "      <td>1499</td>\n",
       "      <td>2018-09-16</td>\n",
       "      <td>1.39</td>\n",
       "    </tr>\n",
       "    <tr>\n",
       "      <th>137727</th>\n",
       "      <td>1499_196</td>\n",
       "      <td>1499</td>\n",
       "      <td>2018-11-22</td>\n",
       "      <td>0.27</td>\n",
       "    </tr>\n",
       "    <tr>\n",
       "      <th>137728</th>\n",
       "      <td>1499_197</td>\n",
       "      <td>1499</td>\n",
       "      <td>2018-12-27</td>\n",
       "      <td>8.36</td>\n",
       "    </tr>\n",
       "    <tr>\n",
       "      <th>137729</th>\n",
       "      <td>1499_198</td>\n",
       "      <td>1499</td>\n",
       "      <td>2018-10-26</td>\n",
       "      <td>6.41</td>\n",
       "    </tr>\n",
       "    <tr>\n",
       "      <th>137730</th>\n",
       "      <td>1499_199</td>\n",
       "      <td>1499</td>\n",
       "      <td>2018-11-21</td>\n",
       "      <td>8.72</td>\n",
       "    </tr>\n",
       "    <tr>\n",
       "      <th>137731</th>\n",
       "      <td>1499_200</td>\n",
       "      <td>1499</td>\n",
       "      <td>2018-10-20</td>\n",
       "      <td>10.89</td>\n",
       "    </tr>\n",
       "    <tr>\n",
       "      <th>137732</th>\n",
       "      <td>1499_201</td>\n",
       "      <td>1499</td>\n",
       "      <td>2018-09-21</td>\n",
       "      <td>8.12</td>\n",
       "    </tr>\n",
       "    <tr>\n",
       "      <th>137733</th>\n",
       "      <td>1499_202</td>\n",
       "      <td>1499</td>\n",
       "      <td>2018-10-10</td>\n",
       "      <td>0.37</td>\n",
       "    </tr>\n",
       "    <tr>\n",
       "      <th>137734</th>\n",
       "      <td>1499_203</td>\n",
       "      <td>1499</td>\n",
       "      <td>2018-12-29</td>\n",
       "      <td>13.86</td>\n",
       "    </tr>\n",
       "  </tbody>\n",
       "</table>\n",
       "</div>"
      ],
      "text/plain": [
       "              id  user_id   call_date  duration\n",
       "137725  1499_194     1499  2018-10-31      0.00\n",
       "137726  1499_195     1499  2018-09-16      1.39\n",
       "137727  1499_196     1499  2018-11-22      0.27\n",
       "137728  1499_197     1499  2018-12-27      8.36\n",
       "137729  1499_198     1499  2018-10-26      6.41\n",
       "137730  1499_199     1499  2018-11-21      8.72\n",
       "137731  1499_200     1499  2018-10-20     10.89\n",
       "137732  1499_201     1499  2018-09-21      8.12\n",
       "137733  1499_202     1499  2018-10-10      0.37\n",
       "137734  1499_203     1499  2018-12-29     13.86"
      ]
     },
     "execution_count": 4,
     "metadata": {},
     "output_type": "execute_result"
    }
   ],
   "source": [
    "calls.tail(10)"
   ]
  },
  {
   "cell_type": "code",
   "execution_count": 5,
   "id": "0499f3c1",
   "metadata": {},
   "outputs": [
    {
     "name": "stdout",
     "output_type": "stream",
     "text": [
      "<class 'pandas.core.frame.DataFrame'>\n",
      "RangeIndex: 137735 entries, 0 to 137734\n",
      "Data columns (total 4 columns):\n",
      " #   Column     Non-Null Count   Dtype  \n",
      "---  ------     --------------   -----  \n",
      " 0   id         137735 non-null  object \n",
      " 1   user_id    137735 non-null  int64  \n",
      " 2   call_date  137735 non-null  object \n",
      " 3   duration   137735 non-null  float64\n",
      "dtypes: float64(1), int64(1), object(2)\n",
      "memory usage: 4.2+ MB\n"
     ]
    }
   ],
   "source": [
    "calls.info()"
   ]
  },
  {
   "cell_type": "code",
   "execution_count": 6,
   "id": "67102e8a",
   "metadata": {},
   "outputs": [
    {
     "data": {
      "text/plain": [
       "id           0\n",
       "user_id      0\n",
       "call_date    0\n",
       "duration     0\n",
       "dtype: int64"
      ]
     },
     "execution_count": 6,
     "metadata": {},
     "output_type": "execute_result"
    }
   ],
   "source": [
    "calls.isna().sum()"
   ]
  },
  {
   "cell_type": "code",
   "execution_count": 7,
   "id": "e39234b7",
   "metadata": {},
   "outputs": [
    {
     "data": {
      "text/plain": [
       "0"
      ]
     },
     "execution_count": 7,
     "metadata": {},
     "output_type": "execute_result"
    }
   ],
   "source": [
    "calls.duplicated().sum()"
   ]
  },
  {
   "cell_type": "markdown",
   "id": "685df314",
   "metadata": {},
   "source": [
    "#### Conclusão calls"
   ]
  },
  {
   "cell_type": "markdown",
   "id": "f1be70a9",
   "metadata": {},
   "source": [
    "**Os dados parecem estar sólidos, mas existe algo que deve ser corrigido:**\n",
    "- Criar função para modificar a coluna `call_date` para datetime.\n",
    "- A coluna da duração chamada `duration` deve ser arredondada para cima."
   ]
  },
  {
   "cell_type": "markdown",
   "id": "4f82f676",
   "metadata": {},
   "source": [
    "### A tabela `internet` (dados sobre sessões web):\n",
    "- `id` — identificador de sessão unívoco\n",
    "- `mb_used` — o volume de dados gasto durante a sessão ( em megabytes)\n",
    "- `session_date` — data da sessão web\n",
    "- `user_id` — identificador do usuário"
   ]
  },
  {
   "cell_type": "code",
   "execution_count": 8,
   "id": "56356e64",
   "metadata": {},
   "outputs": [
    {
     "data": {
      "text/html": [
       "<div>\n",
       "<style scoped>\n",
       "    .dataframe tbody tr th:only-of-type {\n",
       "        vertical-align: middle;\n",
       "    }\n",
       "\n",
       "    .dataframe tbody tr th {\n",
       "        vertical-align: top;\n",
       "    }\n",
       "\n",
       "    .dataframe thead th {\n",
       "        text-align: right;\n",
       "    }\n",
       "</style>\n",
       "<table border=\"1\" class=\"dataframe\">\n",
       "  <thead>\n",
       "    <tr style=\"text-align: right;\">\n",
       "      <th></th>\n",
       "      <th>id</th>\n",
       "      <th>user_id</th>\n",
       "      <th>session_date</th>\n",
       "      <th>mb_used</th>\n",
       "    </tr>\n",
       "  </thead>\n",
       "  <tbody>\n",
       "    <tr>\n",
       "      <th>0</th>\n",
       "      <td>1000_13</td>\n",
       "      <td>1000</td>\n",
       "      <td>2018-12-29</td>\n",
       "      <td>89.86</td>\n",
       "    </tr>\n",
       "    <tr>\n",
       "      <th>1</th>\n",
       "      <td>1000_204</td>\n",
       "      <td>1000</td>\n",
       "      <td>2018-12-31</td>\n",
       "      <td>0.00</td>\n",
       "    </tr>\n",
       "    <tr>\n",
       "      <th>2</th>\n",
       "      <td>1000_379</td>\n",
       "      <td>1000</td>\n",
       "      <td>2018-12-28</td>\n",
       "      <td>660.40</td>\n",
       "    </tr>\n",
       "    <tr>\n",
       "      <th>3</th>\n",
       "      <td>1000_413</td>\n",
       "      <td>1000</td>\n",
       "      <td>2018-12-26</td>\n",
       "      <td>270.99</td>\n",
       "    </tr>\n",
       "    <tr>\n",
       "      <th>4</th>\n",
       "      <td>1000_442</td>\n",
       "      <td>1000</td>\n",
       "      <td>2018-12-27</td>\n",
       "      <td>880.22</td>\n",
       "    </tr>\n",
       "    <tr>\n",
       "      <th>5</th>\n",
       "      <td>1001_0</td>\n",
       "      <td>1001</td>\n",
       "      <td>2018-08-24</td>\n",
       "      <td>284.68</td>\n",
       "    </tr>\n",
       "    <tr>\n",
       "      <th>6</th>\n",
       "      <td>1001_3</td>\n",
       "      <td>1001</td>\n",
       "      <td>2018-12-09</td>\n",
       "      <td>656.04</td>\n",
       "    </tr>\n",
       "    <tr>\n",
       "      <th>7</th>\n",
       "      <td>1001_4</td>\n",
       "      <td>1001</td>\n",
       "      <td>2018-11-04</td>\n",
       "      <td>16.97</td>\n",
       "    </tr>\n",
       "    <tr>\n",
       "      <th>8</th>\n",
       "      <td>1001_10</td>\n",
       "      <td>1001</td>\n",
       "      <td>2018-11-27</td>\n",
       "      <td>135.18</td>\n",
       "    </tr>\n",
       "    <tr>\n",
       "      <th>9</th>\n",
       "      <td>1001_15</td>\n",
       "      <td>1001</td>\n",
       "      <td>2018-12-13</td>\n",
       "      <td>761.92</td>\n",
       "    </tr>\n",
       "  </tbody>\n",
       "</table>\n",
       "</div>"
      ],
      "text/plain": [
       "         id  user_id session_date  mb_used\n",
       "0   1000_13     1000   2018-12-29    89.86\n",
       "1  1000_204     1000   2018-12-31     0.00\n",
       "2  1000_379     1000   2018-12-28   660.40\n",
       "3  1000_413     1000   2018-12-26   270.99\n",
       "4  1000_442     1000   2018-12-27   880.22\n",
       "5    1001_0     1001   2018-08-24   284.68\n",
       "6    1001_3     1001   2018-12-09   656.04\n",
       "7    1001_4     1001   2018-11-04    16.97\n",
       "8   1001_10     1001   2018-11-27   135.18\n",
       "9   1001_15     1001   2018-12-13   761.92"
      ]
     },
     "execution_count": 8,
     "metadata": {},
     "output_type": "execute_result"
    }
   ],
   "source": [
    "internet.head(10)"
   ]
  },
  {
   "cell_type": "code",
   "execution_count": 9,
   "id": "3cd37598",
   "metadata": {},
   "outputs": [
    {
     "data": {
      "text/html": [
       "<div>\n",
       "<style scoped>\n",
       "    .dataframe tbody tr th:only-of-type {\n",
       "        vertical-align: middle;\n",
       "    }\n",
       "\n",
       "    .dataframe tbody tr th {\n",
       "        vertical-align: top;\n",
       "    }\n",
       "\n",
       "    .dataframe thead th {\n",
       "        text-align: right;\n",
       "    }\n",
       "</style>\n",
       "<table border=\"1\" class=\"dataframe\">\n",
       "  <thead>\n",
       "    <tr style=\"text-align: right;\">\n",
       "      <th></th>\n",
       "      <th>id</th>\n",
       "      <th>user_id</th>\n",
       "      <th>session_date</th>\n",
       "      <th>mb_used</th>\n",
       "    </tr>\n",
       "  </thead>\n",
       "  <tbody>\n",
       "    <tr>\n",
       "      <th>104815</th>\n",
       "      <td>1499_210</td>\n",
       "      <td>1499</td>\n",
       "      <td>2018-11-30</td>\n",
       "      <td>191.92</td>\n",
       "    </tr>\n",
       "    <tr>\n",
       "      <th>104816</th>\n",
       "      <td>1499_211</td>\n",
       "      <td>1499</td>\n",
       "      <td>2018-09-26</td>\n",
       "      <td>0.00</td>\n",
       "    </tr>\n",
       "    <tr>\n",
       "      <th>104817</th>\n",
       "      <td>1499_212</td>\n",
       "      <td>1499</td>\n",
       "      <td>2018-09-11</td>\n",
       "      <td>0.00</td>\n",
       "    </tr>\n",
       "    <tr>\n",
       "      <th>104818</th>\n",
       "      <td>1499_213</td>\n",
       "      <td>1499</td>\n",
       "      <td>2018-10-15</td>\n",
       "      <td>430.27</td>\n",
       "    </tr>\n",
       "    <tr>\n",
       "      <th>104819</th>\n",
       "      <td>1499_214</td>\n",
       "      <td>1499</td>\n",
       "      <td>2018-10-18</td>\n",
       "      <td>261.13</td>\n",
       "    </tr>\n",
       "    <tr>\n",
       "      <th>104820</th>\n",
       "      <td>1499_215</td>\n",
       "      <td>1499</td>\n",
       "      <td>2018-10-20</td>\n",
       "      <td>218.06</td>\n",
       "    </tr>\n",
       "    <tr>\n",
       "      <th>104821</th>\n",
       "      <td>1499_216</td>\n",
       "      <td>1499</td>\n",
       "      <td>2018-12-30</td>\n",
       "      <td>304.72</td>\n",
       "    </tr>\n",
       "    <tr>\n",
       "      <th>104822</th>\n",
       "      <td>1499_217</td>\n",
       "      <td>1499</td>\n",
       "      <td>2018-09-22</td>\n",
       "      <td>292.75</td>\n",
       "    </tr>\n",
       "    <tr>\n",
       "      <th>104823</th>\n",
       "      <td>1499_218</td>\n",
       "      <td>1499</td>\n",
       "      <td>2018-12-07</td>\n",
       "      <td>0.00</td>\n",
       "    </tr>\n",
       "    <tr>\n",
       "      <th>104824</th>\n",
       "      <td>1499_219</td>\n",
       "      <td>1499</td>\n",
       "      <td>2018-12-24</td>\n",
       "      <td>758.31</td>\n",
       "    </tr>\n",
       "  </tbody>\n",
       "</table>\n",
       "</div>"
      ],
      "text/plain": [
       "              id  user_id session_date  mb_used\n",
       "104815  1499_210     1499   2018-11-30   191.92\n",
       "104816  1499_211     1499   2018-09-26     0.00\n",
       "104817  1499_212     1499   2018-09-11     0.00\n",
       "104818  1499_213     1499   2018-10-15   430.27\n",
       "104819  1499_214     1499   2018-10-18   261.13\n",
       "104820  1499_215     1499   2018-10-20   218.06\n",
       "104821  1499_216     1499   2018-12-30   304.72\n",
       "104822  1499_217     1499   2018-09-22   292.75\n",
       "104823  1499_218     1499   2018-12-07     0.00\n",
       "104824  1499_219     1499   2018-12-24   758.31"
      ]
     },
     "execution_count": 9,
     "metadata": {},
     "output_type": "execute_result"
    }
   ],
   "source": [
    "internet.tail(10)"
   ]
  },
  {
   "cell_type": "code",
   "execution_count": 10,
   "id": "7b8e8300",
   "metadata": {},
   "outputs": [
    {
     "name": "stdout",
     "output_type": "stream",
     "text": [
      "<class 'pandas.core.frame.DataFrame'>\n",
      "RangeIndex: 104825 entries, 0 to 104824\n",
      "Data columns (total 4 columns):\n",
      " #   Column        Non-Null Count   Dtype  \n",
      "---  ------        --------------   -----  \n",
      " 0   id            104825 non-null  object \n",
      " 1   user_id       104825 non-null  int64  \n",
      " 2   session_date  104825 non-null  object \n",
      " 3   mb_used       104825 non-null  float64\n",
      "dtypes: float64(1), int64(1), object(2)\n",
      "memory usage: 3.2+ MB\n"
     ]
    }
   ],
   "source": [
    "internet.info()"
   ]
  },
  {
   "cell_type": "code",
   "execution_count": 11,
   "id": "702e58e3",
   "metadata": {},
   "outputs": [
    {
     "data": {
      "text/plain": [
       "id              0\n",
       "user_id         0\n",
       "session_date    0\n",
       "mb_used         0\n",
       "dtype: int64"
      ]
     },
     "execution_count": 11,
     "metadata": {},
     "output_type": "execute_result"
    }
   ],
   "source": [
    "internet.isna().sum()"
   ]
  },
  {
   "cell_type": "code",
   "execution_count": 12,
   "id": "b0c66942",
   "metadata": {},
   "outputs": [
    {
     "data": {
      "text/plain": [
       "0"
      ]
     },
     "execution_count": 12,
     "metadata": {},
     "output_type": "execute_result"
    }
   ],
   "source": [
    "internet.duplicated().sum()"
   ]
  },
  {
   "cell_type": "markdown",
   "id": "d0c40906",
   "metadata": {},
   "source": [
    "#### Conclusão internet"
   ]
  },
  {
   "cell_type": "markdown",
   "id": "7b76af0d",
   "metadata": {},
   "source": [
    "**Os dados parecem estar sólidos, mas existe algo que deve ser corrigido:**\n",
    "- Criar função para modificar a coluna `session_date` para datetime.\n",
    "- Converter a coluna `mb_used`para gigabytes, arredondando para cima!"
   ]
  },
  {
   "cell_type": "markdown",
   "id": "41559955",
   "metadata": {},
   "source": [
    "### A tabela `messages` (dados nas mensagens de texto):\n",
    "- `id` — identificador unívoco de mensagem de textos\n",
    "- `message_date` — data da mensagem de texto\n",
    "- `user_id` — o identificador do usuário que envia a mensagem de texto"
   ]
  },
  {
   "cell_type": "code",
   "execution_count": 13,
   "id": "ca963eee",
   "metadata": {},
   "outputs": [
    {
     "data": {
      "text/html": [
       "<div>\n",
       "<style scoped>\n",
       "    .dataframe tbody tr th:only-of-type {\n",
       "        vertical-align: middle;\n",
       "    }\n",
       "\n",
       "    .dataframe tbody tr th {\n",
       "        vertical-align: top;\n",
       "    }\n",
       "\n",
       "    .dataframe thead th {\n",
       "        text-align: right;\n",
       "    }\n",
       "</style>\n",
       "<table border=\"1\" class=\"dataframe\">\n",
       "  <thead>\n",
       "    <tr style=\"text-align: right;\">\n",
       "      <th></th>\n",
       "      <th>id</th>\n",
       "      <th>user_id</th>\n",
       "      <th>message_date</th>\n",
       "    </tr>\n",
       "  </thead>\n",
       "  <tbody>\n",
       "    <tr>\n",
       "      <th>0</th>\n",
       "      <td>1000_125</td>\n",
       "      <td>1000</td>\n",
       "      <td>2018-12-27</td>\n",
       "    </tr>\n",
       "    <tr>\n",
       "      <th>1</th>\n",
       "      <td>1000_160</td>\n",
       "      <td>1000</td>\n",
       "      <td>2018-12-31</td>\n",
       "    </tr>\n",
       "    <tr>\n",
       "      <th>2</th>\n",
       "      <td>1000_223</td>\n",
       "      <td>1000</td>\n",
       "      <td>2018-12-31</td>\n",
       "    </tr>\n",
       "    <tr>\n",
       "      <th>3</th>\n",
       "      <td>1000_251</td>\n",
       "      <td>1000</td>\n",
       "      <td>2018-12-27</td>\n",
       "    </tr>\n",
       "    <tr>\n",
       "      <th>4</th>\n",
       "      <td>1000_255</td>\n",
       "      <td>1000</td>\n",
       "      <td>2018-12-26</td>\n",
       "    </tr>\n",
       "    <tr>\n",
       "      <th>5</th>\n",
       "      <td>1000_346</td>\n",
       "      <td>1000</td>\n",
       "      <td>2018-12-29</td>\n",
       "    </tr>\n",
       "    <tr>\n",
       "      <th>6</th>\n",
       "      <td>1000_386</td>\n",
       "      <td>1000</td>\n",
       "      <td>2018-12-30</td>\n",
       "    </tr>\n",
       "    <tr>\n",
       "      <th>7</th>\n",
       "      <td>1000_413</td>\n",
       "      <td>1000</td>\n",
       "      <td>2018-12-31</td>\n",
       "    </tr>\n",
       "    <tr>\n",
       "      <th>8</th>\n",
       "      <td>1000_502</td>\n",
       "      <td>1000</td>\n",
       "      <td>2018-12-27</td>\n",
       "    </tr>\n",
       "    <tr>\n",
       "      <th>9</th>\n",
       "      <td>1000_525</td>\n",
       "      <td>1000</td>\n",
       "      <td>2018-12-28</td>\n",
       "    </tr>\n",
       "  </tbody>\n",
       "</table>\n",
       "</div>"
      ],
      "text/plain": [
       "         id  user_id message_date\n",
       "0  1000_125     1000   2018-12-27\n",
       "1  1000_160     1000   2018-12-31\n",
       "2  1000_223     1000   2018-12-31\n",
       "3  1000_251     1000   2018-12-27\n",
       "4  1000_255     1000   2018-12-26\n",
       "5  1000_346     1000   2018-12-29\n",
       "6  1000_386     1000   2018-12-30\n",
       "7  1000_413     1000   2018-12-31\n",
       "8  1000_502     1000   2018-12-27\n",
       "9  1000_525     1000   2018-12-28"
      ]
     },
     "execution_count": 13,
     "metadata": {},
     "output_type": "execute_result"
    }
   ],
   "source": [
    "messages.head(10)"
   ]
  },
  {
   "cell_type": "code",
   "execution_count": 14,
   "id": "cfd83600",
   "metadata": {},
   "outputs": [
    {
     "data": {
      "text/html": [
       "<div>\n",
       "<style scoped>\n",
       "    .dataframe tbody tr th:only-of-type {\n",
       "        vertical-align: middle;\n",
       "    }\n",
       "\n",
       "    .dataframe tbody tr th {\n",
       "        vertical-align: top;\n",
       "    }\n",
       "\n",
       "    .dataframe thead th {\n",
       "        text-align: right;\n",
       "    }\n",
       "</style>\n",
       "<table border=\"1\" class=\"dataframe\">\n",
       "  <thead>\n",
       "    <tr style=\"text-align: right;\">\n",
       "      <th></th>\n",
       "      <th>id</th>\n",
       "      <th>user_id</th>\n",
       "      <th>message_date</th>\n",
       "    </tr>\n",
       "  </thead>\n",
       "  <tbody>\n",
       "    <tr>\n",
       "      <th>76041</th>\n",
       "      <td>1497_502</td>\n",
       "      <td>1497</td>\n",
       "      <td>2018-12-30</td>\n",
       "    </tr>\n",
       "    <tr>\n",
       "      <th>76042</th>\n",
       "      <td>1497_503</td>\n",
       "      <td>1497</td>\n",
       "      <td>2018-12-29</td>\n",
       "    </tr>\n",
       "    <tr>\n",
       "      <th>76043</th>\n",
       "      <td>1497_507</td>\n",
       "      <td>1497</td>\n",
       "      <td>2018-12-23</td>\n",
       "    </tr>\n",
       "    <tr>\n",
       "      <th>76044</th>\n",
       "      <td>1497_517</td>\n",
       "      <td>1497</td>\n",
       "      <td>2018-12-17</td>\n",
       "    </tr>\n",
       "    <tr>\n",
       "      <th>76045</th>\n",
       "      <td>1497_524</td>\n",
       "      <td>1497</td>\n",
       "      <td>2018-12-12</td>\n",
       "    </tr>\n",
       "    <tr>\n",
       "      <th>76046</th>\n",
       "      <td>1497_526</td>\n",
       "      <td>1497</td>\n",
       "      <td>2018-12-24</td>\n",
       "    </tr>\n",
       "    <tr>\n",
       "      <th>76047</th>\n",
       "      <td>1497_536</td>\n",
       "      <td>1497</td>\n",
       "      <td>2018-12-24</td>\n",
       "    </tr>\n",
       "    <tr>\n",
       "      <th>76048</th>\n",
       "      <td>1497_547</td>\n",
       "      <td>1497</td>\n",
       "      <td>2018-12-31</td>\n",
       "    </tr>\n",
       "    <tr>\n",
       "      <th>76049</th>\n",
       "      <td>1497_558</td>\n",
       "      <td>1497</td>\n",
       "      <td>2018-12-24</td>\n",
       "    </tr>\n",
       "    <tr>\n",
       "      <th>76050</th>\n",
       "      <td>1497_613</td>\n",
       "      <td>1497</td>\n",
       "      <td>2018-12-23</td>\n",
       "    </tr>\n",
       "  </tbody>\n",
       "</table>\n",
       "</div>"
      ],
      "text/plain": [
       "             id  user_id message_date\n",
       "76041  1497_502     1497   2018-12-30\n",
       "76042  1497_503     1497   2018-12-29\n",
       "76043  1497_507     1497   2018-12-23\n",
       "76044  1497_517     1497   2018-12-17\n",
       "76045  1497_524     1497   2018-12-12\n",
       "76046  1497_526     1497   2018-12-24\n",
       "76047  1497_536     1497   2018-12-24\n",
       "76048  1497_547     1497   2018-12-31\n",
       "76049  1497_558     1497   2018-12-24\n",
       "76050  1497_613     1497   2018-12-23"
      ]
     },
     "execution_count": 14,
     "metadata": {},
     "output_type": "execute_result"
    }
   ],
   "source": [
    "messages.tail(10)"
   ]
  },
  {
   "cell_type": "code",
   "execution_count": 15,
   "id": "1f1eb613",
   "metadata": {},
   "outputs": [
    {
     "name": "stdout",
     "output_type": "stream",
     "text": [
      "<class 'pandas.core.frame.DataFrame'>\n",
      "RangeIndex: 76051 entries, 0 to 76050\n",
      "Data columns (total 3 columns):\n",
      " #   Column        Non-Null Count  Dtype \n",
      "---  ------        --------------  ----- \n",
      " 0   id            76051 non-null  object\n",
      " 1   user_id       76051 non-null  int64 \n",
      " 2   message_date  76051 non-null  object\n",
      "dtypes: int64(1), object(2)\n",
      "memory usage: 1.7+ MB\n"
     ]
    }
   ],
   "source": [
    "messages.info()"
   ]
  },
  {
   "cell_type": "code",
   "execution_count": 16,
   "id": "90df1b72",
   "metadata": {},
   "outputs": [
    {
     "data": {
      "text/plain": [
       "id              0\n",
       "user_id         0\n",
       "message_date    0\n",
       "dtype: int64"
      ]
     },
     "execution_count": 16,
     "metadata": {},
     "output_type": "execute_result"
    }
   ],
   "source": [
    "messages.isna().sum()"
   ]
  },
  {
   "cell_type": "code",
   "execution_count": 17,
   "id": "d821af22",
   "metadata": {},
   "outputs": [
    {
     "data": {
      "text/plain": [
       "0"
      ]
     },
     "execution_count": 17,
     "metadata": {},
     "output_type": "execute_result"
    }
   ],
   "source": [
    "messages.duplicated().sum()"
   ]
  },
  {
   "cell_type": "markdown",
   "id": "4c0ee716",
   "metadata": {},
   "source": [
    "#### Conclusão messages"
   ]
  },
  {
   "cell_type": "markdown",
   "id": "0d1a99ed",
   "metadata": {},
   "source": [
    "**Os dados parecem estar sólidos, mas existe algo que deve ser corrigido:**\n",
    "- Criar função para modificar a coluna `message_date` para datetime."
   ]
  },
  {
   "cell_type": "markdown",
   "id": "3a4535bd",
   "metadata": {},
   "source": [
    "### A tabela `plans` (dados sobre os planos):\n",
    "- `plan_name` — o nome do plano de chamadas\n",
    "- `usd_monthly_pay` — preço mensal em dólares dos EUA\n",
    "- `minutes_included` — pacote de minutos mensal\n",
    "- `messages_included` — pacote de mensagens de texto mensal\n",
    "- `mb_per_month_included` — pacote de volume de dados (em megabytes)\n",
    "- `usd_per_minute` — preço por minuto depois de exceder o limite do pacote (por exemplo, se o pacote inclui 100 - minutos, o primeiro minuto excedente será cobrado)\n",
    "- `usd_per_message` — preço por mensagem de texto depois de exceder o limite do pacote\n",
    "- `usd_per_gb` — preço por gigabyte extra de dados após exceder o limite do pacote (1 GB = 1024 megabytes)"
   ]
  },
  {
   "cell_type": "code",
   "execution_count": 18,
   "id": "ebc5b7aa",
   "metadata": {},
   "outputs": [
    {
     "data": {
      "text/html": [
       "<div>\n",
       "<style scoped>\n",
       "    .dataframe tbody tr th:only-of-type {\n",
       "        vertical-align: middle;\n",
       "    }\n",
       "\n",
       "    .dataframe tbody tr th {\n",
       "        vertical-align: top;\n",
       "    }\n",
       "\n",
       "    .dataframe thead th {\n",
       "        text-align: right;\n",
       "    }\n",
       "</style>\n",
       "<table border=\"1\" class=\"dataframe\">\n",
       "  <thead>\n",
       "    <tr style=\"text-align: right;\">\n",
       "      <th></th>\n",
       "      <th>messages_included</th>\n",
       "      <th>mb_per_month_included</th>\n",
       "      <th>minutes_included</th>\n",
       "      <th>usd_monthly_pay</th>\n",
       "      <th>usd_per_gb</th>\n",
       "      <th>usd_per_message</th>\n",
       "      <th>usd_per_minute</th>\n",
       "      <th>plan_name</th>\n",
       "    </tr>\n",
       "  </thead>\n",
       "  <tbody>\n",
       "    <tr>\n",
       "      <th>0</th>\n",
       "      <td>50</td>\n",
       "      <td>15360</td>\n",
       "      <td>500</td>\n",
       "      <td>20</td>\n",
       "      <td>10</td>\n",
       "      <td>0.03</td>\n",
       "      <td>0.03</td>\n",
       "      <td>surf</td>\n",
       "    </tr>\n",
       "    <tr>\n",
       "      <th>1</th>\n",
       "      <td>1000</td>\n",
       "      <td>30720</td>\n",
       "      <td>3000</td>\n",
       "      <td>70</td>\n",
       "      <td>7</td>\n",
       "      <td>0.01</td>\n",
       "      <td>0.01</td>\n",
       "      <td>ultimate</td>\n",
       "    </tr>\n",
       "  </tbody>\n",
       "</table>\n",
       "</div>"
      ],
      "text/plain": [
       "   messages_included  mb_per_month_included  minutes_included  \\\n",
       "0                 50                  15360               500   \n",
       "1               1000                  30720              3000   \n",
       "\n",
       "   usd_monthly_pay  usd_per_gb  usd_per_message  usd_per_minute plan_name  \n",
       "0               20          10             0.03            0.03      surf  \n",
       "1               70           7             0.01            0.01  ultimate  "
      ]
     },
     "execution_count": 18,
     "metadata": {},
     "output_type": "execute_result"
    }
   ],
   "source": [
    "plans.head()"
   ]
  },
  {
   "cell_type": "code",
   "execution_count": 19,
   "id": "77d32cdb",
   "metadata": {},
   "outputs": [
    {
     "name": "stdout",
     "output_type": "stream",
     "text": [
      "<class 'pandas.core.frame.DataFrame'>\n",
      "RangeIndex: 2 entries, 0 to 1\n",
      "Data columns (total 8 columns):\n",
      " #   Column                 Non-Null Count  Dtype  \n",
      "---  ------                 --------------  -----  \n",
      " 0   messages_included      2 non-null      int64  \n",
      " 1   mb_per_month_included  2 non-null      int64  \n",
      " 2   minutes_included       2 non-null      int64  \n",
      " 3   usd_monthly_pay        2 non-null      int64  \n",
      " 4   usd_per_gb             2 non-null      int64  \n",
      " 5   usd_per_message        2 non-null      float64\n",
      " 6   usd_per_minute         2 non-null      float64\n",
      " 7   plan_name              2 non-null      object \n",
      "dtypes: float64(2), int64(5), object(1)\n",
      "memory usage: 256.0+ bytes\n"
     ]
    }
   ],
   "source": [
    "plans.info()"
   ]
  },
  {
   "cell_type": "code",
   "execution_count": 20,
   "id": "306391b9",
   "metadata": {},
   "outputs": [
    {
     "data": {
      "text/plain": [
       "messages_included        0\n",
       "mb_per_month_included    0\n",
       "minutes_included         0\n",
       "usd_monthly_pay          0\n",
       "usd_per_gb               0\n",
       "usd_per_message          0\n",
       "usd_per_minute           0\n",
       "plan_name                0\n",
       "dtype: int64"
      ]
     },
     "execution_count": 20,
     "metadata": {},
     "output_type": "execute_result"
    }
   ],
   "source": [
    "plans.isna().sum()"
   ]
  },
  {
   "cell_type": "code",
   "execution_count": 21,
   "id": "5cc67bce",
   "metadata": {},
   "outputs": [
    {
     "data": {
      "text/plain": [
       "0"
      ]
     },
     "execution_count": 21,
     "metadata": {},
     "output_type": "execute_result"
    }
   ],
   "source": [
    "plans.duplicated().sum()"
   ]
  },
  {
   "cell_type": "markdown",
   "id": "381a74e7",
   "metadata": {},
   "source": [
    "#### Conclusão plans"
   ]
  },
  {
   "cell_type": "markdown",
   "id": "d381e728",
   "metadata": {},
   "source": [
    "**Os dados parecem estar sólidos, mas existe algo que deve ser corrigido:**\n",
    "- Converter a coluna `mb_per_month_included`para gigabytes."
   ]
  },
  {
   "cell_type": "markdown",
   "id": "91dacbef",
   "metadata": {},
   "source": [
    "### A tabela `users` (dados sobre usuários):\n",
    "- `user_id` — identificação do usuário\n",
    "- `first_name` — nome do usuário\n",
    "- `last_name` — último sobrenome do usuário\n",
    "- `age` — idade do usuário (em anos)\n",
    "- `reg_date` — data da inscrição (dd, mm, aa)\n",
    "- `churn_date` — a data que o usuário parou de usar o serviço (se o valor for ausente, o plano estava sendo usado quando esse dado foi gerado)\n",
    "- `city` — cidade de residência do usuário\n",
    "- `plan` — nome do plano"
   ]
  },
  {
   "cell_type": "code",
   "execution_count": 22,
   "id": "922ad70b",
   "metadata": {},
   "outputs": [
    {
     "data": {
      "text/html": [
       "<div>\n",
       "<style scoped>\n",
       "    .dataframe tbody tr th:only-of-type {\n",
       "        vertical-align: middle;\n",
       "    }\n",
       "\n",
       "    .dataframe tbody tr th {\n",
       "        vertical-align: top;\n",
       "    }\n",
       "\n",
       "    .dataframe thead th {\n",
       "        text-align: right;\n",
       "    }\n",
       "</style>\n",
       "<table border=\"1\" class=\"dataframe\">\n",
       "  <thead>\n",
       "    <tr style=\"text-align: right;\">\n",
       "      <th></th>\n",
       "      <th>user_id</th>\n",
       "      <th>first_name</th>\n",
       "      <th>last_name</th>\n",
       "      <th>age</th>\n",
       "      <th>city</th>\n",
       "      <th>reg_date</th>\n",
       "      <th>plan</th>\n",
       "      <th>churn_date</th>\n",
       "    </tr>\n",
       "  </thead>\n",
       "  <tbody>\n",
       "    <tr>\n",
       "      <th>0</th>\n",
       "      <td>1000</td>\n",
       "      <td>Anamaria</td>\n",
       "      <td>Bauer</td>\n",
       "      <td>45</td>\n",
       "      <td>Atlanta-Sandy Springs-Roswell, GA MSA</td>\n",
       "      <td>2018-12-24</td>\n",
       "      <td>ultimate</td>\n",
       "      <td>NaN</td>\n",
       "    </tr>\n",
       "    <tr>\n",
       "      <th>1</th>\n",
       "      <td>1001</td>\n",
       "      <td>Mickey</td>\n",
       "      <td>Wilkerson</td>\n",
       "      <td>28</td>\n",
       "      <td>Seattle-Tacoma-Bellevue, WA MSA</td>\n",
       "      <td>2018-08-13</td>\n",
       "      <td>surf</td>\n",
       "      <td>NaN</td>\n",
       "    </tr>\n",
       "    <tr>\n",
       "      <th>2</th>\n",
       "      <td>1002</td>\n",
       "      <td>Carlee</td>\n",
       "      <td>Hoffman</td>\n",
       "      <td>36</td>\n",
       "      <td>Las Vegas-Henderson-Paradise, NV MSA</td>\n",
       "      <td>2018-10-21</td>\n",
       "      <td>surf</td>\n",
       "      <td>NaN</td>\n",
       "    </tr>\n",
       "    <tr>\n",
       "      <th>3</th>\n",
       "      <td>1003</td>\n",
       "      <td>Reynaldo</td>\n",
       "      <td>Jenkins</td>\n",
       "      <td>52</td>\n",
       "      <td>Tulsa, OK MSA</td>\n",
       "      <td>2018-01-28</td>\n",
       "      <td>surf</td>\n",
       "      <td>NaN</td>\n",
       "    </tr>\n",
       "    <tr>\n",
       "      <th>4</th>\n",
       "      <td>1004</td>\n",
       "      <td>Leonila</td>\n",
       "      <td>Thompson</td>\n",
       "      <td>40</td>\n",
       "      <td>Seattle-Tacoma-Bellevue, WA MSA</td>\n",
       "      <td>2018-05-23</td>\n",
       "      <td>surf</td>\n",
       "      <td>NaN</td>\n",
       "    </tr>\n",
       "    <tr>\n",
       "      <th>5</th>\n",
       "      <td>1005</td>\n",
       "      <td>Livia</td>\n",
       "      <td>Shields</td>\n",
       "      <td>31</td>\n",
       "      <td>Dallas-Fort Worth-Arlington, TX MSA</td>\n",
       "      <td>2018-11-29</td>\n",
       "      <td>surf</td>\n",
       "      <td>NaN</td>\n",
       "    </tr>\n",
       "    <tr>\n",
       "      <th>6</th>\n",
       "      <td>1006</td>\n",
       "      <td>Jesusa</td>\n",
       "      <td>Bradford</td>\n",
       "      <td>73</td>\n",
       "      <td>San Francisco-Oakland-Berkeley, CA MSA</td>\n",
       "      <td>2018-11-27</td>\n",
       "      <td>ultimate</td>\n",
       "      <td>2018-12-18</td>\n",
       "    </tr>\n",
       "    <tr>\n",
       "      <th>7</th>\n",
       "      <td>1007</td>\n",
       "      <td>Eusebio</td>\n",
       "      <td>Welch</td>\n",
       "      <td>42</td>\n",
       "      <td>Grand Rapids-Kentwood, MI MSA</td>\n",
       "      <td>2018-07-11</td>\n",
       "      <td>surf</td>\n",
       "      <td>NaN</td>\n",
       "    </tr>\n",
       "    <tr>\n",
       "      <th>8</th>\n",
       "      <td>1008</td>\n",
       "      <td>Emely</td>\n",
       "      <td>Hoffman</td>\n",
       "      <td>53</td>\n",
       "      <td>Orlando-Kissimmee-Sanford, FL MSA</td>\n",
       "      <td>2018-08-03</td>\n",
       "      <td>ultimate</td>\n",
       "      <td>NaN</td>\n",
       "    </tr>\n",
       "    <tr>\n",
       "      <th>9</th>\n",
       "      <td>1009</td>\n",
       "      <td>Gerry</td>\n",
       "      <td>Little</td>\n",
       "      <td>19</td>\n",
       "      <td>San Jose-Sunnyvale-Santa Clara, CA MSA</td>\n",
       "      <td>2018-04-22</td>\n",
       "      <td>surf</td>\n",
       "      <td>NaN</td>\n",
       "    </tr>\n",
       "  </tbody>\n",
       "</table>\n",
       "</div>"
      ],
      "text/plain": [
       "   user_id first_name  last_name  age                                    city  \\\n",
       "0     1000   Anamaria      Bauer   45   Atlanta-Sandy Springs-Roswell, GA MSA   \n",
       "1     1001     Mickey  Wilkerson   28         Seattle-Tacoma-Bellevue, WA MSA   \n",
       "2     1002     Carlee    Hoffman   36    Las Vegas-Henderson-Paradise, NV MSA   \n",
       "3     1003   Reynaldo    Jenkins   52                           Tulsa, OK MSA   \n",
       "4     1004    Leonila   Thompson   40         Seattle-Tacoma-Bellevue, WA MSA   \n",
       "5     1005      Livia    Shields   31     Dallas-Fort Worth-Arlington, TX MSA   \n",
       "6     1006     Jesusa   Bradford   73  San Francisco-Oakland-Berkeley, CA MSA   \n",
       "7     1007    Eusebio      Welch   42           Grand Rapids-Kentwood, MI MSA   \n",
       "8     1008      Emely    Hoffman   53       Orlando-Kissimmee-Sanford, FL MSA   \n",
       "9     1009      Gerry     Little   19  San Jose-Sunnyvale-Santa Clara, CA MSA   \n",
       "\n",
       "     reg_date      plan  churn_date  \n",
       "0  2018-12-24  ultimate         NaN  \n",
       "1  2018-08-13      surf         NaN  \n",
       "2  2018-10-21      surf         NaN  \n",
       "3  2018-01-28      surf         NaN  \n",
       "4  2018-05-23      surf         NaN  \n",
       "5  2018-11-29      surf         NaN  \n",
       "6  2018-11-27  ultimate  2018-12-18  \n",
       "7  2018-07-11      surf         NaN  \n",
       "8  2018-08-03  ultimate         NaN  \n",
       "9  2018-04-22      surf         NaN  "
      ]
     },
     "execution_count": 22,
     "metadata": {},
     "output_type": "execute_result"
    }
   ],
   "source": [
    "users.head(10)"
   ]
  },
  {
   "cell_type": "code",
   "execution_count": 23,
   "id": "07464572",
   "metadata": {},
   "outputs": [
    {
     "data": {
      "text/html": [
       "<div>\n",
       "<style scoped>\n",
       "    .dataframe tbody tr th:only-of-type {\n",
       "        vertical-align: middle;\n",
       "    }\n",
       "\n",
       "    .dataframe tbody tr th {\n",
       "        vertical-align: top;\n",
       "    }\n",
       "\n",
       "    .dataframe thead th {\n",
       "        text-align: right;\n",
       "    }\n",
       "</style>\n",
       "<table border=\"1\" class=\"dataframe\">\n",
       "  <thead>\n",
       "    <tr style=\"text-align: right;\">\n",
       "      <th></th>\n",
       "      <th>user_id</th>\n",
       "      <th>first_name</th>\n",
       "      <th>last_name</th>\n",
       "      <th>age</th>\n",
       "      <th>city</th>\n",
       "      <th>reg_date</th>\n",
       "      <th>plan</th>\n",
       "      <th>churn_date</th>\n",
       "    </tr>\n",
       "  </thead>\n",
       "  <tbody>\n",
       "    <tr>\n",
       "      <th>490</th>\n",
       "      <td>1490</td>\n",
       "      <td>Shane</td>\n",
       "      <td>Cortez</td>\n",
       "      <td>42</td>\n",
       "      <td>Sacramento–Roseville–Folsom, CA MSA</td>\n",
       "      <td>2018-01-20</td>\n",
       "      <td>ultimate</td>\n",
       "      <td>NaN</td>\n",
       "    </tr>\n",
       "    <tr>\n",
       "      <th>491</th>\n",
       "      <td>1491</td>\n",
       "      <td>Terina</td>\n",
       "      <td>Jensen</td>\n",
       "      <td>22</td>\n",
       "      <td>Grand Rapids-Kentwood, MI MSA</td>\n",
       "      <td>2018-04-27</td>\n",
       "      <td>surf</td>\n",
       "      <td>2018-09-18</td>\n",
       "    </tr>\n",
       "    <tr>\n",
       "      <th>492</th>\n",
       "      <td>1492</td>\n",
       "      <td>Elvie</td>\n",
       "      <td>Jones</td>\n",
       "      <td>63</td>\n",
       "      <td>Portland-Vancouver-Hillsboro, OR-WA MSA</td>\n",
       "      <td>2018-03-07</td>\n",
       "      <td>surf</td>\n",
       "      <td>NaN</td>\n",
       "    </tr>\n",
       "    <tr>\n",
       "      <th>493</th>\n",
       "      <td>1493</td>\n",
       "      <td>Cicely</td>\n",
       "      <td>Wynn</td>\n",
       "      <td>18</td>\n",
       "      <td>Boston-Cambridge-Newton, MA-NH MSA</td>\n",
       "      <td>2018-03-06</td>\n",
       "      <td>ultimate</td>\n",
       "      <td>NaN</td>\n",
       "    </tr>\n",
       "    <tr>\n",
       "      <th>494</th>\n",
       "      <td>1494</td>\n",
       "      <td>Preston</td>\n",
       "      <td>Downs</td>\n",
       "      <td>70</td>\n",
       "      <td>New York-Newark-Jersey City, NY-NJ-PA MSA</td>\n",
       "      <td>2018-04-19</td>\n",
       "      <td>surf</td>\n",
       "      <td>NaN</td>\n",
       "    </tr>\n",
       "    <tr>\n",
       "      <th>495</th>\n",
       "      <td>1495</td>\n",
       "      <td>Fidel</td>\n",
       "      <td>Sharpe</td>\n",
       "      <td>67</td>\n",
       "      <td>New York-Newark-Jersey City, NY-NJ-PA MSA</td>\n",
       "      <td>2018-09-04</td>\n",
       "      <td>surf</td>\n",
       "      <td>NaN</td>\n",
       "    </tr>\n",
       "    <tr>\n",
       "      <th>496</th>\n",
       "      <td>1496</td>\n",
       "      <td>Ariel</td>\n",
       "      <td>Shepherd</td>\n",
       "      <td>49</td>\n",
       "      <td>New Orleans-Metairie, LA MSA</td>\n",
       "      <td>2018-02-20</td>\n",
       "      <td>surf</td>\n",
       "      <td>NaN</td>\n",
       "    </tr>\n",
       "    <tr>\n",
       "      <th>497</th>\n",
       "      <td>1497</td>\n",
       "      <td>Donte</td>\n",
       "      <td>Barrera</td>\n",
       "      <td>49</td>\n",
       "      <td>Los Angeles-Long Beach-Anaheim, CA MSA</td>\n",
       "      <td>2018-12-10</td>\n",
       "      <td>ultimate</td>\n",
       "      <td>NaN</td>\n",
       "    </tr>\n",
       "    <tr>\n",
       "      <th>498</th>\n",
       "      <td>1498</td>\n",
       "      <td>Scot</td>\n",
       "      <td>Williamson</td>\n",
       "      <td>51</td>\n",
       "      <td>New York-Newark-Jersey City, NY-NJ-PA MSA</td>\n",
       "      <td>2018-02-04</td>\n",
       "      <td>surf</td>\n",
       "      <td>NaN</td>\n",
       "    </tr>\n",
       "    <tr>\n",
       "      <th>499</th>\n",
       "      <td>1499</td>\n",
       "      <td>Shena</td>\n",
       "      <td>Dickson</td>\n",
       "      <td>37</td>\n",
       "      <td>Orlando-Kissimmee-Sanford, FL MSA</td>\n",
       "      <td>2018-05-06</td>\n",
       "      <td>surf</td>\n",
       "      <td>NaN</td>\n",
       "    </tr>\n",
       "  </tbody>\n",
       "</table>\n",
       "</div>"
      ],
      "text/plain": [
       "     user_id first_name   last_name  age  \\\n",
       "490     1490      Shane      Cortez   42   \n",
       "491     1491     Terina      Jensen   22   \n",
       "492     1492      Elvie       Jones   63   \n",
       "493     1493     Cicely        Wynn   18   \n",
       "494     1494    Preston       Downs   70   \n",
       "495     1495      Fidel      Sharpe   67   \n",
       "496     1496      Ariel    Shepherd   49   \n",
       "497     1497      Donte     Barrera   49   \n",
       "498     1498       Scot  Williamson   51   \n",
       "499     1499      Shena     Dickson   37   \n",
       "\n",
       "                                          city    reg_date      plan  \\\n",
       "490        Sacramento–Roseville–Folsom, CA MSA  2018-01-20  ultimate   \n",
       "491              Grand Rapids-Kentwood, MI MSA  2018-04-27      surf   \n",
       "492    Portland-Vancouver-Hillsboro, OR-WA MSA  2018-03-07      surf   \n",
       "493         Boston-Cambridge-Newton, MA-NH MSA  2018-03-06  ultimate   \n",
       "494  New York-Newark-Jersey City, NY-NJ-PA MSA  2018-04-19      surf   \n",
       "495  New York-Newark-Jersey City, NY-NJ-PA MSA  2018-09-04      surf   \n",
       "496               New Orleans-Metairie, LA MSA  2018-02-20      surf   \n",
       "497     Los Angeles-Long Beach-Anaheim, CA MSA  2018-12-10  ultimate   \n",
       "498  New York-Newark-Jersey City, NY-NJ-PA MSA  2018-02-04      surf   \n",
       "499          Orlando-Kissimmee-Sanford, FL MSA  2018-05-06      surf   \n",
       "\n",
       "     churn_date  \n",
       "490         NaN  \n",
       "491  2018-09-18  \n",
       "492         NaN  \n",
       "493         NaN  \n",
       "494         NaN  \n",
       "495         NaN  \n",
       "496         NaN  \n",
       "497         NaN  \n",
       "498         NaN  \n",
       "499         NaN  "
      ]
     },
     "execution_count": 23,
     "metadata": {},
     "output_type": "execute_result"
    }
   ],
   "source": [
    "users.tail(10)"
   ]
  },
  {
   "cell_type": "code",
   "execution_count": 24,
   "id": "baad21d0",
   "metadata": {},
   "outputs": [
    {
     "name": "stdout",
     "output_type": "stream",
     "text": [
      "<class 'pandas.core.frame.DataFrame'>\n",
      "RangeIndex: 500 entries, 0 to 499\n",
      "Data columns (total 8 columns):\n",
      " #   Column      Non-Null Count  Dtype \n",
      "---  ------      --------------  ----- \n",
      " 0   user_id     500 non-null    int64 \n",
      " 1   first_name  500 non-null    object\n",
      " 2   last_name   500 non-null    object\n",
      " 3   age         500 non-null    int64 \n",
      " 4   city        500 non-null    object\n",
      " 5   reg_date    500 non-null    object\n",
      " 6   plan        500 non-null    object\n",
      " 7   churn_date  34 non-null     object\n",
      "dtypes: int64(2), object(6)\n",
      "memory usage: 31.4+ KB\n"
     ]
    }
   ],
   "source": [
    "users.info()"
   ]
  },
  {
   "cell_type": "code",
   "execution_count": 25,
   "id": "00afe58c",
   "metadata": {},
   "outputs": [
    {
     "data": {
      "text/plain": [
       "user_id         0\n",
       "first_name      0\n",
       "last_name       0\n",
       "age             0\n",
       "city            0\n",
       "reg_date        0\n",
       "plan            0\n",
       "churn_date    466\n",
       "dtype: int64"
      ]
     },
     "execution_count": 25,
     "metadata": {},
     "output_type": "execute_result"
    }
   ],
   "source": [
    "users.isna().sum()"
   ]
  },
  {
   "cell_type": "code",
   "execution_count": 26,
   "id": "916d81ce",
   "metadata": {},
   "outputs": [
    {
     "data": {
      "text/plain": [
       "0"
      ]
     },
     "execution_count": 26,
     "metadata": {},
     "output_type": "execute_result"
    }
   ],
   "source": [
    "users.duplicated().sum()"
   ]
  },
  {
   "cell_type": "markdown",
   "id": "bce855f0",
   "metadata": {},
   "source": [
    "#### Conclusão users"
   ]
  },
  {
   "cell_type": "markdown",
   "id": "aa65619c",
   "metadata": {},
   "source": [
    "- Criar função para modificar a coluna `reg_date` para datetime.\n",
    "- Criar função para modificar a coluna `churn_date` para datetime."
   ]
  },
  {
   "cell_type": "markdown",
   "id": "a288152f",
   "metadata": {},
   "source": [
    "### Conclusão Geral"
   ]
  },
  {
   "cell_type": "markdown",
   "id": "a09e90f3",
   "metadata": {},
   "source": [
    "**Existem erros nos dados que devem ser corrigidos são eles:**\n",
    "- Conversão de tipo de dados\n",
    "- Conversão de valores em megabytes para gigabytes"
   ]
  },
  {
   "cell_type": "markdown",
   "id": "1e1c8061",
   "metadata": {},
   "source": [
    "## Preparando os dados PT1"
   ]
  },
  {
   "cell_type": "markdown",
   "id": "f0a1e773",
   "metadata": {},
   "source": [
    "**Oque deve ser resolvido e adicionado:**\n",
    "\n",
    "**Tabela `calls`**\n",
    "\n",
    "- Criar função para modificar a coluna `call_date` para datetime.\n",
    "- A coluna da duração chamada `duration` deve ser arredondada para cima.\n",
    "- Criar coluna do mês das chamadas realizadas.\n",
    "\n",
    "**Tabela `internet`**\n",
    "- Criar função para modificar a coluna `session_date` para datetime.\n",
    "- Converter a coluna `mb_used`para gigabytes, arredondando para cima!\n",
    "- Criar coluna do mês das internet utilizada.\n",
    "\n",
    "**Tabela `messages`**\n",
    "- Criar função para modificar a coluna `message_date` para datetime.\n",
    "- Criar coluna do mês das mensagens realizadas.\n",
    "\n",
    "**Tabela `plans`**\n",
    "- Converter a coluna `mb_per_month_included`para gigabytes.\n",
    "\n",
    "**Tabela `users`**\n",
    "- Criar função para modificar a coluna `reg_date` para datetime.\n",
    "- Criar função para modificar a coluna `churn_date` para datetime.\n"
   ]
  },
  {
   "cell_type": "markdown",
   "id": "fedeaba2",
   "metadata": {},
   "source": [
    "### Tabela `calls`"
   ]
  },
  {
   "cell_type": "code",
   "execution_count": 27,
   "id": "ca27747b",
   "metadata": {},
   "outputs": [
    {
     "name": "stdout",
     "output_type": "stream",
     "text": [
      "<class 'pandas.core.frame.DataFrame'>\n",
      "RangeIndex: 137735 entries, 0 to 137734\n",
      "Data columns (total 5 columns):\n",
      " #   Column     Non-Null Count   Dtype         \n",
      "---  ------     --------------   -----         \n",
      " 0   id         137735 non-null  object        \n",
      " 1   user_id    137735 non-null  int64         \n",
      " 2   call_date  137735 non-null  datetime64[ns]\n",
      " 3   duration   137735 non-null  int32         \n",
      " 4   month      137735 non-null  object        \n",
      "dtypes: datetime64[ns](1), int32(1), int64(1), object(2)\n",
      "memory usage: 4.7+ MB\n"
     ]
    }
   ],
   "source": [
    "# Mudando o formato da coluna 'call_date' para datetime\n",
    "calls['call_date'] = pd.to_datetime(calls['call_date'], format='%Y-%m-%d')\n",
    "\n",
    "# Arredondando valores da coluna 'call_date' para cima e transformando ela no tipo int para não ficar .0\n",
    "calls['duration'] = calls['duration'].apply(np.ceil).astype('int')\n",
    "\n",
    "# Criando uma coluna do mês das chamadas realizadas\n",
    "calls['month'] = calls['call_date'].dt.month_name()\n",
    "\n",
    "calls.info()"
   ]
  },
  {
   "cell_type": "markdown",
   "id": "f97f92bb",
   "metadata": {},
   "source": [
    "### Tabela `internet`"
   ]
  },
  {
   "cell_type": "code",
   "execution_count": 28,
   "id": "4a8c17f6",
   "metadata": {},
   "outputs": [
    {
     "name": "stdout",
     "output_type": "stream",
     "text": [
      "<class 'pandas.core.frame.DataFrame'>\n",
      "RangeIndex: 104825 entries, 0 to 104824\n",
      "Data columns (total 5 columns):\n",
      " #   Column        Non-Null Count   Dtype         \n",
      "---  ------        --------------   -----         \n",
      " 0   id            104825 non-null  object        \n",
      " 1   user_id       104825 non-null  int64         \n",
      " 2   session_date  104825 non-null  datetime64[ns]\n",
      " 3   gb_used       104825 non-null  int32         \n",
      " 4   month         104825 non-null  object        \n",
      "dtypes: datetime64[ns](1), int32(1), int64(1), object(2)\n",
      "memory usage: 3.6+ MB\n"
     ]
    }
   ],
   "source": [
    "# Mudando o formato da coluna 'session_date' para datetime\n",
    "internet['session_date'] = pd.to_datetime(internet['session_date'],\n",
    "                                          format='%Y-%m-%d')\n",
    "\n",
    "# Convertendo coluna 'mb_used' para gigabytes\n",
    "internet['mb_used'] = internet['mb_used'] / 1024\n",
    "\n",
    "# Arredondando valores da coluna 'mb_used' para cima e convertendo para o tipo int\n",
    "internet['mb_used'] = internet['mb_used'].apply(np.ceil).astype('int')\n",
    "\n",
    "# Renomeando a coluna\n",
    "internet = internet.rename(columns={'mb_used': 'gb_used'})\n",
    "\n",
    "# Criando coluna mês\n",
    "internet['month'] = internet['session_date'].dt.month_name()\n",
    "\n",
    "internet.info()"
   ]
  },
  {
   "cell_type": "markdown",
   "id": "24535878",
   "metadata": {},
   "source": [
    "### Tabela `messages`"
   ]
  },
  {
   "cell_type": "code",
   "execution_count": 29,
   "id": "055dd8fe",
   "metadata": {},
   "outputs": [
    {
     "name": "stdout",
     "output_type": "stream",
     "text": [
      "<class 'pandas.core.frame.DataFrame'>\n",
      "RangeIndex: 76051 entries, 0 to 76050\n",
      "Data columns (total 4 columns):\n",
      " #   Column        Non-Null Count  Dtype         \n",
      "---  ------        --------------  -----         \n",
      " 0   id            76051 non-null  object        \n",
      " 1   user_id       76051 non-null  int64         \n",
      " 2   message_date  76051 non-null  datetime64[ns]\n",
      " 3   month         76051 non-null  object        \n",
      "dtypes: datetime64[ns](1), int64(1), object(2)\n",
      "memory usage: 2.3+ MB\n"
     ]
    }
   ],
   "source": [
    "# Mudando o formato da coluna 'message_date' para datetime\n",
    "messages['message_date'] = pd.to_datetime(messages['message_date'],\n",
    "                                          format='%Y-%m-%d')\n",
    "\n",
    "# Criando uma coluna do mês das mensagens realizadas\n",
    "messages['month'] = messages['message_date'].dt.month_name()\n",
    "\n",
    "messages.info()"
   ]
  },
  {
   "cell_type": "markdown",
   "id": "9cf81ac3",
   "metadata": {},
   "source": [
    "### Tabela `plans`"
   ]
  },
  {
   "cell_type": "code",
   "execution_count": 30,
   "id": "f7f1dcd0",
   "metadata": {},
   "outputs": [
    {
     "name": "stdout",
     "output_type": "stream",
     "text": [
      "<class 'pandas.core.frame.DataFrame'>\n",
      "RangeIndex: 2 entries, 0 to 1\n",
      "Data columns (total 8 columns):\n",
      " #   Column                 Non-Null Count  Dtype  \n",
      "---  ------                 --------------  -----  \n",
      " 0   messages_included      2 non-null      int64  \n",
      " 1   gb_per_month_included  2 non-null      int32  \n",
      " 2   minutes_included       2 non-null      int64  \n",
      " 3   usd_monthly_pay        2 non-null      int64  \n",
      " 4   usd_per_gb             2 non-null      int64  \n",
      " 5   usd_per_message        2 non-null      float64\n",
      " 6   usd_per_minute         2 non-null      float64\n",
      " 7   plan_name              2 non-null      object \n",
      "dtypes: float64(2), int32(1), int64(4), object(1)\n",
      "memory usage: 248.0+ bytes\n"
     ]
    }
   ],
   "source": [
    "# Convertendo valores da coluna para 'mb_per_month_included' gigabytes\n",
    "plans['mb_per_month_included'] = plans['mb_per_month_included'] / 1024\n",
    "\n",
    "# Renomeando a coluna 'mb_per_month_included' para 'gb_per_month_included'\n",
    "plans = plans.rename(\n",
    "    columns={'mb_per_month_included': 'gb_per_month_included'})\n",
    "\n",
    "# Convertendo coluna 'gb_per_month_included' para o tipo int\n",
    "plans['gb_per_month_included'] = plans['gb_per_month_included'].astype('int')\n",
    "\n",
    "plans.info()"
   ]
  },
  {
   "cell_type": "markdown",
   "id": "55a33a59",
   "metadata": {},
   "source": [
    "### Tabela `users`"
   ]
  },
  {
   "cell_type": "code",
   "execution_count": 31,
   "id": "f5ba6294",
   "metadata": {},
   "outputs": [
    {
     "name": "stdout",
     "output_type": "stream",
     "text": [
      "<class 'pandas.core.frame.DataFrame'>\n",
      "RangeIndex: 500 entries, 0 to 499\n",
      "Data columns (total 8 columns):\n",
      " #   Column      Non-Null Count  Dtype         \n",
      "---  ------      --------------  -----         \n",
      " 0   user_id     500 non-null    int64         \n",
      " 1   first_name  500 non-null    object        \n",
      " 2   last_name   500 non-null    object        \n",
      " 3   age         500 non-null    int64         \n",
      " 4   city        500 non-null    object        \n",
      " 5   reg_date    500 non-null    datetime64[ns]\n",
      " 6   plan        500 non-null    object        \n",
      " 7   churn_date  34 non-null     datetime64[ns]\n",
      "dtypes: datetime64[ns](2), int64(2), object(4)\n",
      "memory usage: 31.4+ KB\n"
     ]
    }
   ],
   "source": [
    "# Mudando o formato da coluna 'reg_date' para datetime\n",
    "users['reg_date'] = pd.to_datetime(users['reg_date'], format='%Y-%m-%d')\n",
    "\n",
    "# Mudando o formato da coluna 'churn_date' para datetime\n",
    "users['churn_date'] = pd.to_datetime(users['churn_date'], format='%Y-%m-%d')\n",
    "\n",
    "users.info()"
   ]
  },
  {
   "cell_type": "markdown",
   "id": "5875d6e6",
   "metadata": {},
   "source": [
    "## Preparando os dados PT2"
   ]
  },
  {
   "cell_type": "markdown",
   "id": "2dc13375",
   "metadata": {},
   "source": [
    "**Para cada usuário, encontre:**\n",
    "- O número de chamadas feitas e o número de minutos usados por mês.\n",
    "- O número de mensagens de texto enviadas por mês.\n",
    "- O volume de dados por mês.\n",
    "- A receita mensal para cada usuário (subtraia o limite do pacote grátis do número total de chamadas, mensagens de texto, e dados; multiplique o resultado pelos valores do plano; adicione o preço mensal dependendo do plano de chamada)."
   ]
  },
  {
   "cell_type": "markdown",
   "id": "e4cb28a2",
   "metadata": {},
   "source": [
    "### O número de chamadas feitas e o número de minutos usados por mês."
   ]
  },
  {
   "cell_type": "code",
   "execution_count": 32,
   "id": "e5dc728c",
   "metadata": {},
   "outputs": [
    {
     "data": {
      "text/html": [
       "<div>\n",
       "<style scoped>\n",
       "    .dataframe tbody tr th:only-of-type {\n",
       "        vertical-align: middle;\n",
       "    }\n",
       "\n",
       "    .dataframe tbody tr th {\n",
       "        vertical-align: top;\n",
       "    }\n",
       "\n",
       "    .dataframe thead th {\n",
       "        text-align: right;\n",
       "    }\n",
       "</style>\n",
       "<table border=\"1\" class=\"dataframe\">\n",
       "  <thead>\n",
       "    <tr style=\"text-align: right;\">\n",
       "      <th></th>\n",
       "      <th>user_id</th>\n",
       "      <th>month</th>\n",
       "      <th>minutes_used_per_month</th>\n",
       "      <th>calls_used_per_month</th>\n",
       "    </tr>\n",
       "  </thead>\n",
       "  <tbody>\n",
       "    <tr>\n",
       "      <th>0</th>\n",
       "      <td>1000</td>\n",
       "      <td>December</td>\n",
       "      <td>124</td>\n",
       "      <td>16</td>\n",
       "    </tr>\n",
       "    <tr>\n",
       "      <th>1</th>\n",
       "      <td>1001</td>\n",
       "      <td>August</td>\n",
       "      <td>182</td>\n",
       "      <td>27</td>\n",
       "    </tr>\n",
       "    <tr>\n",
       "      <th>2</th>\n",
       "      <td>1001</td>\n",
       "      <td>December</td>\n",
       "      <td>412</td>\n",
       "      <td>56</td>\n",
       "    </tr>\n",
       "    <tr>\n",
       "      <th>3</th>\n",
       "      <td>1001</td>\n",
       "      <td>November</td>\n",
       "      <td>426</td>\n",
       "      <td>64</td>\n",
       "    </tr>\n",
       "    <tr>\n",
       "      <th>4</th>\n",
       "      <td>1001</td>\n",
       "      <td>October</td>\n",
       "      <td>393</td>\n",
       "      <td>65</td>\n",
       "    </tr>\n",
       "  </tbody>\n",
       "</table>\n",
       "</div>"
      ],
      "text/plain": [
       "   user_id     month  minutes_used_per_month  calls_used_per_month\n",
       "0     1000  December                     124                    16\n",
       "1     1001    August                     182                    27\n",
       "2     1001  December                     412                    56\n",
       "3     1001  November                     426                    64\n",
       "4     1001   October                     393                    65"
      ]
     },
     "execution_count": 32,
     "metadata": {},
     "output_type": "execute_result"
    }
   ],
   "source": [
    "# Criando pivot_table para pegar o número de chamadas por mês\n",
    "n_calls = calls.pivot_table(index=['user_id', 'month'],\n",
    "                            values='id',\n",
    "                            aggfunc='count').reset_index()\n",
    "\n",
    "# Renomeando coluna 'id' para 'calls_used_per_month'\n",
    "n_calls = n_calls.rename(columns={'id': 'calls_used_per_month'})\n",
    "\n",
    "# Criando pivot_table para pegar o número de minutos por mês\n",
    "n_minutes = calls.pivot_table(index=['user_id', 'month'],\n",
    "                              values='duration',\n",
    "                              aggfunc='sum').reset_index()\n",
    "\n",
    "# Renomeando coluna 'duration' para 'minutes_used_per_month'\n",
    "n_mininutes = n_minutes.rename(columns={'duration': 'minutes_used_per_month'})\n",
    "\n",
    "# Juntando os dataframes\n",
    "calls_minutes = n_mininutes.merge(n_calls)\n",
    "\n",
    "calls_minutes.head()"
   ]
  },
  {
   "cell_type": "markdown",
   "id": "ee8c8b58",
   "metadata": {},
   "source": [
    "### O número de mensagens de texto enviadas por mês."
   ]
  },
  {
   "cell_type": "code",
   "execution_count": 33,
   "id": "f66d7104",
   "metadata": {},
   "outputs": [
    {
     "data": {
      "text/html": [
       "<div>\n",
       "<style scoped>\n",
       "    .dataframe tbody tr th:only-of-type {\n",
       "        vertical-align: middle;\n",
       "    }\n",
       "\n",
       "    .dataframe tbody tr th {\n",
       "        vertical-align: top;\n",
       "    }\n",
       "\n",
       "    .dataframe thead th {\n",
       "        text-align: right;\n",
       "    }\n",
       "</style>\n",
       "<table border=\"1\" class=\"dataframe\">\n",
       "  <thead>\n",
       "    <tr style=\"text-align: right;\">\n",
       "      <th></th>\n",
       "      <th>user_id</th>\n",
       "      <th>month</th>\n",
       "      <th>menssages_used_per_month</th>\n",
       "    </tr>\n",
       "  </thead>\n",
       "  <tbody>\n",
       "    <tr>\n",
       "      <th>0</th>\n",
       "      <td>1000</td>\n",
       "      <td>December</td>\n",
       "      <td>11</td>\n",
       "    </tr>\n",
       "    <tr>\n",
       "      <th>1</th>\n",
       "      <td>1001</td>\n",
       "      <td>August</td>\n",
       "      <td>30</td>\n",
       "    </tr>\n",
       "    <tr>\n",
       "      <th>2</th>\n",
       "      <td>1001</td>\n",
       "      <td>December</td>\n",
       "      <td>44</td>\n",
       "    </tr>\n",
       "    <tr>\n",
       "      <th>3</th>\n",
       "      <td>1001</td>\n",
       "      <td>November</td>\n",
       "      <td>36</td>\n",
       "    </tr>\n",
       "    <tr>\n",
       "      <th>4</th>\n",
       "      <td>1001</td>\n",
       "      <td>October</td>\n",
       "      <td>53</td>\n",
       "    </tr>\n",
       "  </tbody>\n",
       "</table>\n",
       "</div>"
      ],
      "text/plain": [
       "   user_id     month  menssages_used_per_month\n",
       "0     1000  December                        11\n",
       "1     1001    August                        30\n",
       "2     1001  December                        44\n",
       "3     1001  November                        36\n",
       "4     1001   October                        53"
      ]
     },
     "execution_count": 33,
     "metadata": {},
     "output_type": "execute_result"
    }
   ],
   "source": [
    "# Criando pivot_table para pegar o número de menssagens por mês\n",
    "n_menssages = messages.pivot_table(index=['user_id', 'month'],\n",
    "                                   values='id',\n",
    "                                   aggfunc='count').reset_index()\n",
    "\n",
    "# Renomeando o nome da coluna 'id' para 'menssages_used_per_month'\n",
    "n_menssages = n_menssages.rename(columns={'id': 'menssages_used_per_month'})\n",
    "\n",
    "n_menssages.head()"
   ]
  },
  {
   "cell_type": "markdown",
   "id": "01ffc3ca",
   "metadata": {},
   "source": [
    "### O volume de dados por mês."
   ]
  },
  {
   "cell_type": "code",
   "execution_count": 34,
   "id": "59dc4d29",
   "metadata": {},
   "outputs": [
    {
     "data": {
      "text/html": [
       "<div>\n",
       "<style scoped>\n",
       "    .dataframe tbody tr th:only-of-type {\n",
       "        vertical-align: middle;\n",
       "    }\n",
       "\n",
       "    .dataframe tbody tr th {\n",
       "        vertical-align: top;\n",
       "    }\n",
       "\n",
       "    .dataframe thead th {\n",
       "        text-align: right;\n",
       "    }\n",
       "</style>\n",
       "<table border=\"1\" class=\"dataframe\">\n",
       "  <thead>\n",
       "    <tr style=\"text-align: right;\">\n",
       "      <th></th>\n",
       "      <th>user_id</th>\n",
       "      <th>month</th>\n",
       "      <th>gb_used_per_month</th>\n",
       "    </tr>\n",
       "  </thead>\n",
       "  <tbody>\n",
       "    <tr>\n",
       "      <th>0</th>\n",
       "      <td>1000</td>\n",
       "      <td>December</td>\n",
       "      <td>4</td>\n",
       "    </tr>\n",
       "    <tr>\n",
       "      <th>1</th>\n",
       "      <td>1001</td>\n",
       "      <td>August</td>\n",
       "      <td>21</td>\n",
       "    </tr>\n",
       "    <tr>\n",
       "      <th>2</th>\n",
       "      <td>1001</td>\n",
       "      <td>December</td>\n",
       "      <td>55</td>\n",
       "    </tr>\n",
       "    <tr>\n",
       "      <th>3</th>\n",
       "      <td>1001</td>\n",
       "      <td>November</td>\n",
       "      <td>49</td>\n",
       "    </tr>\n",
       "    <tr>\n",
       "      <th>4</th>\n",
       "      <td>1001</td>\n",
       "      <td>October</td>\n",
       "      <td>50</td>\n",
       "    </tr>\n",
       "  </tbody>\n",
       "</table>\n",
       "</div>"
      ],
      "text/plain": [
       "   user_id     month  gb_used_per_month\n",
       "0     1000  December                  4\n",
       "1     1001    August                 21\n",
       "2     1001  December                 55\n",
       "3     1001  November                 49\n",
       "4     1001   October                 50"
      ]
     },
     "execution_count": 34,
     "metadata": {},
     "output_type": "execute_result"
    }
   ],
   "source": [
    "# Criando pivot_table para pegar o número de dados por mês\n",
    "vm_data = internet.pivot_table(index=['user_id', 'month'],\n",
    "                               values='gb_used',\n",
    "                               aggfunc='sum').reset_index()\n",
    "\n",
    "# Renomeando o nome da coluna 'gb_used' para 'gb_used_per_month'\n",
    "vmdata = vm_data.rename(columns={'gb_used': 'gb_used_per_month'})\n",
    "\n",
    "vmdata.head()"
   ]
  },
  {
   "cell_type": "markdown",
   "id": "1060f0ef",
   "metadata": {},
   "source": [
    "### A receita mensal para cada usuário (subtraia o limite do pacote grátis do número total de chamadas, mensagens de texto, e dados; multiplique o resultado pelos valores do plano; adicione o preço mensal dependendo do plano de chamada)."
   ]
  },
  {
   "cell_type": "code",
   "execution_count": 35,
   "id": "5553c5d7",
   "metadata": {},
   "outputs": [
    {
     "data": {
      "text/html": [
       "<div>\n",
       "<style scoped>\n",
       "    .dataframe tbody tr th:only-of-type {\n",
       "        vertical-align: middle;\n",
       "    }\n",
       "\n",
       "    .dataframe tbody tr th {\n",
       "        vertical-align: top;\n",
       "    }\n",
       "\n",
       "    .dataframe thead th {\n",
       "        text-align: right;\n",
       "    }\n",
       "</style>\n",
       "<table border=\"1\" class=\"dataframe\">\n",
       "  <thead>\n",
       "    <tr style=\"text-align: right;\">\n",
       "      <th></th>\n",
       "      <th>user_id</th>\n",
       "      <th>month</th>\n",
       "      <th>minutes_used_per_month</th>\n",
       "      <th>calls_used_per_month</th>\n",
       "      <th>menssages_used_per_month</th>\n",
       "      <th>gb_used_per_month</th>\n",
       "      <th>city</th>\n",
       "      <th>plan</th>\n",
       "      <th>dif_minutes</th>\n",
       "      <th>dif_messages</th>\n",
       "      <th>dif_gb</th>\n",
       "      <th>monthly_revenue</th>\n",
       "    </tr>\n",
       "  </thead>\n",
       "  <tbody>\n",
       "    <tr>\n",
       "      <th>0</th>\n",
       "      <td>1000</td>\n",
       "      <td>December</td>\n",
       "      <td>124</td>\n",
       "      <td>16</td>\n",
       "      <td>11</td>\n",
       "      <td>4</td>\n",
       "      <td>Atlanta-Sandy Springs-Roswell, GA MSA</td>\n",
       "      <td>ultimate</td>\n",
       "      <td>0</td>\n",
       "      <td>0</td>\n",
       "      <td>0</td>\n",
       "      <td>70.00</td>\n",
       "    </tr>\n",
       "    <tr>\n",
       "      <th>1</th>\n",
       "      <td>1001</td>\n",
       "      <td>August</td>\n",
       "      <td>182</td>\n",
       "      <td>27</td>\n",
       "      <td>30</td>\n",
       "      <td>21</td>\n",
       "      <td>Seattle-Tacoma-Bellevue, WA MSA</td>\n",
       "      <td>surf</td>\n",
       "      <td>0</td>\n",
       "      <td>0</td>\n",
       "      <td>6</td>\n",
       "      <td>80.00</td>\n",
       "    </tr>\n",
       "    <tr>\n",
       "      <th>2</th>\n",
       "      <td>1001</td>\n",
       "      <td>December</td>\n",
       "      <td>412</td>\n",
       "      <td>56</td>\n",
       "      <td>44</td>\n",
       "      <td>55</td>\n",
       "      <td>Seattle-Tacoma-Bellevue, WA MSA</td>\n",
       "      <td>surf</td>\n",
       "      <td>0</td>\n",
       "      <td>0</td>\n",
       "      <td>40</td>\n",
       "      <td>420.00</td>\n",
       "    </tr>\n",
       "    <tr>\n",
       "      <th>3</th>\n",
       "      <td>1001</td>\n",
       "      <td>November</td>\n",
       "      <td>426</td>\n",
       "      <td>64</td>\n",
       "      <td>36</td>\n",
       "      <td>49</td>\n",
       "      <td>Seattle-Tacoma-Bellevue, WA MSA</td>\n",
       "      <td>surf</td>\n",
       "      <td>0</td>\n",
       "      <td>0</td>\n",
       "      <td>34</td>\n",
       "      <td>360.00</td>\n",
       "    </tr>\n",
       "    <tr>\n",
       "      <th>4</th>\n",
       "      <td>1001</td>\n",
       "      <td>October</td>\n",
       "      <td>393</td>\n",
       "      <td>65</td>\n",
       "      <td>53</td>\n",
       "      <td>50</td>\n",
       "      <td>Seattle-Tacoma-Bellevue, WA MSA</td>\n",
       "      <td>surf</td>\n",
       "      <td>0</td>\n",
       "      <td>3</td>\n",
       "      <td>35</td>\n",
       "      <td>370.09</td>\n",
       "    </tr>\n",
       "  </tbody>\n",
       "</table>\n",
       "</div>"
      ],
      "text/plain": [
       "   user_id     month  minutes_used_per_month  calls_used_per_month  \\\n",
       "0     1000  December                     124                    16   \n",
       "1     1001    August                     182                    27   \n",
       "2     1001  December                     412                    56   \n",
       "3     1001  November                     426                    64   \n",
       "4     1001   October                     393                    65   \n",
       "\n",
       "   menssages_used_per_month  gb_used_per_month  \\\n",
       "0                        11                  4   \n",
       "1                        30                 21   \n",
       "2                        44                 55   \n",
       "3                        36                 49   \n",
       "4                        53                 50   \n",
       "\n",
       "                                    city      plan  dif_minutes  dif_messages  \\\n",
       "0  Atlanta-Sandy Springs-Roswell, GA MSA  ultimate            0             0   \n",
       "1        Seattle-Tacoma-Bellevue, WA MSA      surf            0             0   \n",
       "2        Seattle-Tacoma-Bellevue, WA MSA      surf            0             0   \n",
       "3        Seattle-Tacoma-Bellevue, WA MSA      surf            0             0   \n",
       "4        Seattle-Tacoma-Bellevue, WA MSA      surf            0             3   \n",
       "\n",
       "   dif_gb  monthly_revenue  \n",
       "0       0            70.00  \n",
       "1       6            80.00  \n",
       "2      40           420.00  \n",
       "3      34           360.00  \n",
       "4      35           370.09  "
      ]
     },
     "execution_count": 35,
     "metadata": {},
     "output_type": "execute_result"
    }
   ],
   "source": [
    "# Juntado os dataframes\n",
    "revenue_month = calls_minutes.merge(n_menssages)\n",
    "revenue_month = revenue_month.merge(vmdata)\n",
    "revenue_month = revenue_month.merge(users, on='user_id')\n",
    "\n",
    "# Apagando as colunas que não são desejaveis\n",
    "revenue_month.drop(\n",
    "    ['first_name', 'last_name', 'age', 'reg_date', 'churn_date'],\n",
    "    axis=1,\n",
    "    inplace=True)\n",
    "\n",
    "\n",
    "# Função para calcular diferença entre minutos usados e limite do plano\n",
    "def calc_minutes(row):\n",
    "\n",
    "    # Declarando variavel para salvarmos a diferença entre o valor usado e o limite\n",
    "    dif_minutes = 0\n",
    "\n",
    "    # Ver se o plano é 'surf'\n",
    "    if row['plan'] == 'surf':\n",
    "\n",
    "        # Vendo quem passou do limite do plano de minutos\n",
    "        if row['minutes_used_per_month'] > 500:\n",
    "\n",
    "            # Subtraindo o limite do pacote grátis por total usado para saber diferença\n",
    "            dif_minutes = row['minutes_used_per_month'] - 500\n",
    "\n",
    "    # Ver se o plano é 'ultimate'\n",
    "    if row['plan'] == 'ultimate':\n",
    "\n",
    "        # Vendo quem passou do limite do plano de minutos\n",
    "        if row['minutes_used_per_month'] > 3000:\n",
    "\n",
    "            # Subtraindo o limite do pacote grátis por total usado para saber diferença\n",
    "            dif_minutes = row['minutes_used_per_month'] - 3000\n",
    "\n",
    "    return dif_minutes\n",
    "\n",
    "\n",
    "# Aplicando a função ao data frame e criando uma nova coluna\n",
    "revenue_month['dif_minutes'] = revenue_month.apply(calc_minutes, axis=1)\n",
    "\n",
    "\n",
    "# Função para calcular diferença entre mensagens usadas e limite do plano\n",
    "def calc_messages(row):\n",
    "    # Declarando variavel para salvarmos a diferença entre o valor usado e o limite\n",
    "    dif_messages = 0\n",
    "\n",
    "    # Ver se o plano é 'surf'\n",
    "    if row['plan'] == 'surf':\n",
    "\n",
    "        # Vendo quem passou do limite do plano de menssagens\n",
    "        if row['menssages_used_per_month'] > 50:\n",
    "\n",
    "            # Subtraindo o limite do pacote grátis por total usado para saber diferença\n",
    "            dif_messages = row['menssages_used_per_month'] - 50\n",
    "\n",
    "    # Ver se o plano é 'ultimate'\n",
    "    if row['plan'] == 'ultimate':\n",
    "\n",
    "        # Vendo quem passou do limite do plano de menssagens\n",
    "        if row['menssages_used_per_month'] > 1000:\n",
    "\n",
    "            # Subtraindo o limite do pacote grátis por total usado para saber diferença\n",
    "            dif_messages = row['menssages_used_per_month'] - 1000\n",
    "\n",
    "    return dif_messages\n",
    "\n",
    "\n",
    "# Aplicando a função ao data frame e criando uma nova coluna\n",
    "revenue_month['dif_messages'] = revenue_month.apply(calc_messages, axis=1)\n",
    "\n",
    "\n",
    "# Função para calcular diferença entre internet usada e limite do plano\n",
    "def calc_gb(row):\n",
    "    # Declarando variavel para salvarmos a diferença entre o valor usado e o limite\n",
    "    dif_gb = 0\n",
    "\n",
    "    # Ver se o plano é 'surf'\n",
    "    if row['plan'] == 'surf':\n",
    "\n",
    "        # Vendo quem passou do limite do plano de minutos\n",
    "        if row['gb_used_per_month'] > 15:\n",
    "\n",
    "            # Subtraindo o limite do pacote grátis por total usado para saber diferença\n",
    "            dif_gb = row['gb_used_per_month'] - 15\n",
    "\n",
    "    # Ver se o plano é 'ultimate'\n",
    "    if row['plan'] == 'ultimate':\n",
    "\n",
    "        # Vendo quem passou do limite do plano de minutos\n",
    "        if row['gb_used_per_month'] > 30:\n",
    "\n",
    "            # Subtraindo o limite do pacote grátis por total usado para saber diferença\n",
    "            dif_gb = row['gb_used_per_month'] - 30\n",
    "\n",
    "    return dif_gb\n",
    "\n",
    "\n",
    "# Aplicando a função ao data frame e criando uma nova coluna\n",
    "revenue_month['dif_gb'] = revenue_month.apply(calc_gb, axis=1)\n",
    "\n",
    "\n",
    "# Função para calcular receita mensal de cada usuario\n",
    "def calc_revenue(row):\n",
    "\n",
    "    # Ver se o plano é 'surf'\n",
    "    if row['plan'] == 'surf':\n",
    "\n",
    "        # calculando valores excedentes do plano mais o valor do plano\n",
    "        x = ((row['dif_minutes'] * 0.03) + (row['dif_messages'] * 0.03) +\n",
    "             (row['dif_gb'] * 10)) + 20\n",
    "\n",
    "    # Vendo plano restante ou seja plano 'ultimate'\n",
    "    else:\n",
    "\n",
    "        # calculando valores excedentes do plano mais o valor do plano\n",
    "        x = ((row['dif_minutes'] * 0.01) + (row['dif_messages'] * 0.01) +\n",
    "             (row['dif_gb'] * 7)) + 70\n",
    "\n",
    "    return x\n",
    "\n",
    "\n",
    "# Aplicando a função ao data frame e criando uma nova coluna\n",
    "revenue_month['monthly_revenue'] = revenue_month.apply(calc_revenue, axis=1)\n",
    "\n",
    "revenue_month.head()"
   ]
  },
  {
   "cell_type": "markdown",
   "id": "89937399",
   "metadata": {},
   "source": [
    "## Analisando os dados"
   ]
  },
  {
   "cell_type": "markdown",
   "id": "a1017d6f",
   "metadata": {},
   "source": [
    "**Descreva o comportamento dos clientes. Encontre os minutos, mensagens de texto e volume de dados que usuários de cada plano necessitam por mês. Calcule a média, variância e o desvio padrão. Construa histogramas. Descreva as distribuições.**"
   ]
  },
  {
   "cell_type": "code",
   "execution_count": 36,
   "id": "720ba339",
   "metadata": {},
   "outputs": [],
   "source": [
    "# Função para calcular diferença entre minutos usados e limite do plano\n",
    "def calc_minutes(row):\n",
    "\n",
    "    # Declarando variavel para salvarmos a diferença entre o valor usado e o limite\n",
    "    dif_minutes = 0\n",
    "\n",
    "    # Ver se o plano é 'surf'\n",
    "    if row['plan'] == 'surf':\n",
    "\n",
    "        # Vendo quem passou do limite do plano de minutos\n",
    "        if row['minutes_used_per_month'] > 500:\n",
    "\n",
    "            # Subtraindo o limite do pacote grátis por total usado para saber diferença\n",
    "            dif_minutes = row['minutes_used_per_month'] - 500\n",
    "\n",
    "    # Ver se o plano é 'ultimate'\n",
    "    if row['plan'] == 'ultimate':\n",
    "\n",
    "        # Vendo quem passou do limite do plano de minutos\n",
    "        if row['minutes_used_per_month'] > 3000:\n",
    "\n",
    "            # Subtraindo o limite do pacote grátis por total usado para saber diferença\n",
    "            dif_minutes = row['minutes_used_per_month'] - 3000\n",
    "\n",
    "    return dif_minutes\n",
    "\n",
    "\n",
    "# Aplicando a função ao data frame e criando uma nova coluna\n",
    "revenue_month['dif_minutes'] = revenue_month.apply(calc_minutes, axis=1)\n",
    "\n",
    "\n",
    "# Função para calcular diferença entre mensagens usadas e limite do plano\n",
    "def calc_messages(row):\n",
    "\n",
    "    # Declarando variavel para salvarmos a diferença entre o valor usado e o limite\n",
    "    dif_messages = 0\n",
    "\n",
    "    # Ver se o plano é 'surf'\n",
    "    if row['plan'] == 'surf':\n",
    "\n",
    "        # Vendo quem passou do limite do plano de menssagens\n",
    "        if row['menssages_used_per_month'] > 50:\n",
    "\n",
    "            # Subtraindo o limite do pacote grátis por total usado para saber diferença\n",
    "            dif_messages = row['menssages_used_per_month'] - 50\n",
    "\n",
    "    # Ver se o plano é 'ultimate'\n",
    "    if row['plan'] == 'ultimate':\n",
    "\n",
    "        # Vendo quem passou do limite do plano de menssagens\n",
    "        if row['menssages_used_per_month'] > 1000:\n",
    "\n",
    "            # Subtraindo o limite do pacote grátis por total usado para saber diferença\n",
    "            dif_messages = row['menssages_used_per_month'] - 1000\n",
    "\n",
    "    return dif_messages\n",
    "\n",
    "\n",
    "# Aplicando a função ao data frame e criando uma nova coluna\n",
    "revenue_month['dif_messages'] = revenue_month.apply(calc_messages, axis=1)\n",
    "\n",
    "\n",
    "# Função para calcular diferença entre internet usada e limite do plano\n",
    "def calc_gb(row):\n",
    "\n",
    "    # Declarando variavel para salvarmos a diferença entre o valor usado e o limite\n",
    "    dif_gb = 0\n",
    "\n",
    "    # Ver se o plano é 'surf'\n",
    "    if row['plan'] == 'surf':\n",
    "\n",
    "        # Vendo quem passou do limite do plano de minutos\n",
    "        if row['gb_used_per_month'] > 15:\n",
    "\n",
    "            # Subtraindo o limite do pacote grátis por total usado para saber diferença\n",
    "            dif_gb = row['gb_used_per_month'] - 15\n",
    "\n",
    "    # Ver se o plano é 'ultimate'\n",
    "    if row['plan'] == 'ultimate':\n",
    "\n",
    "        # Vendo quem passou do limite do plano de minutos\n",
    "        if row['gb_used_per_month'] > 30:\n",
    "\n",
    "            # Subtraindo o limite do pacote grátis por total usado para saber diferença\n",
    "            dif_gb = row['gb_used_per_month'] - 30\n",
    "\n",
    "    return dif_gb\n",
    "\n",
    "\n",
    "# Aplicando a função ao data frame e criando uma nova coluna\n",
    "revenue_month['dif_gb'] = revenue_month.apply(calc_gb, axis=1)\n",
    "\n",
    "\n",
    "# Função para calcular receita mensal de cada usuario\n",
    "def calc_revenue(row):\n",
    "\n",
    "    # Pegando usuarios do plano 'surf'\n",
    "    if row['plan'] == 'surf':\n",
    "\n",
    "        # Calculando receita para usuarios do plano surf\n",
    "        x = (row['dif_minutes'] * 0.03) + (row['dif_messages'] *\n",
    "                                           0.03) + (row['dif_gb'] * 10)\n",
    "    else:\n",
    "\n",
    "        # Calculando receita para usuarios do plano ultimate\n",
    "        x = (row['dif_minutes'] * 0.01) + (row['dif_messages'] *\n",
    "                                           0.01) + (row['dif_gb'] * 7)\n",
    "    return x\n",
    "\n",
    "\n",
    "# Aplicando a função ao data frame e criando uma nova coluna\n",
    "revenue_month['monthly_revenue'] = revenue_month.apply(calc_revenue, axis=1)"
   ]
  },
  {
   "cell_type": "code",
   "execution_count": 37,
   "id": "b271eb19",
   "metadata": {},
   "outputs": [
    {
     "data": {
      "text/html": [
       "<div>\n",
       "<style scoped>\n",
       "    .dataframe tbody tr th:only-of-type {\n",
       "        vertical-align: middle;\n",
       "    }\n",
       "\n",
       "    .dataframe tbody tr th {\n",
       "        vertical-align: top;\n",
       "    }\n",
       "\n",
       "    .dataframe thead th {\n",
       "        text-align: right;\n",
       "    }\n",
       "</style>\n",
       "<table border=\"1\" class=\"dataframe\">\n",
       "  <thead>\n",
       "    <tr style=\"text-align: right;\">\n",
       "      <th></th>\n",
       "      <th>user_id</th>\n",
       "      <th>month</th>\n",
       "      <th>minutes_used_per_month</th>\n",
       "      <th>calls_used_per_month</th>\n",
       "      <th>menssages_used_per_month</th>\n",
       "      <th>gb_used_per_month</th>\n",
       "      <th>city</th>\n",
       "      <th>plan</th>\n",
       "      <th>dif_minutes</th>\n",
       "      <th>dif_messages</th>\n",
       "      <th>dif_gb</th>\n",
       "      <th>monthly_revenue</th>\n",
       "    </tr>\n",
       "  </thead>\n",
       "  <tbody>\n",
       "    <tr>\n",
       "      <th>0</th>\n",
       "      <td>1000</td>\n",
       "      <td>December</td>\n",
       "      <td>124</td>\n",
       "      <td>16</td>\n",
       "      <td>11</td>\n",
       "      <td>4</td>\n",
       "      <td>Atlanta-Sandy Springs-Roswell, GA MSA</td>\n",
       "      <td>ultimate</td>\n",
       "      <td>0</td>\n",
       "      <td>0</td>\n",
       "      <td>0</td>\n",
       "      <td>0.00</td>\n",
       "    </tr>\n",
       "    <tr>\n",
       "      <th>1</th>\n",
       "      <td>1001</td>\n",
       "      <td>August</td>\n",
       "      <td>182</td>\n",
       "      <td>27</td>\n",
       "      <td>30</td>\n",
       "      <td>21</td>\n",
       "      <td>Seattle-Tacoma-Bellevue, WA MSA</td>\n",
       "      <td>surf</td>\n",
       "      <td>0</td>\n",
       "      <td>0</td>\n",
       "      <td>6</td>\n",
       "      <td>60.00</td>\n",
       "    </tr>\n",
       "    <tr>\n",
       "      <th>2</th>\n",
       "      <td>1001</td>\n",
       "      <td>December</td>\n",
       "      <td>412</td>\n",
       "      <td>56</td>\n",
       "      <td>44</td>\n",
       "      <td>55</td>\n",
       "      <td>Seattle-Tacoma-Bellevue, WA MSA</td>\n",
       "      <td>surf</td>\n",
       "      <td>0</td>\n",
       "      <td>0</td>\n",
       "      <td>40</td>\n",
       "      <td>400.00</td>\n",
       "    </tr>\n",
       "    <tr>\n",
       "      <th>3</th>\n",
       "      <td>1001</td>\n",
       "      <td>November</td>\n",
       "      <td>426</td>\n",
       "      <td>64</td>\n",
       "      <td>36</td>\n",
       "      <td>49</td>\n",
       "      <td>Seattle-Tacoma-Bellevue, WA MSA</td>\n",
       "      <td>surf</td>\n",
       "      <td>0</td>\n",
       "      <td>0</td>\n",
       "      <td>34</td>\n",
       "      <td>340.00</td>\n",
       "    </tr>\n",
       "    <tr>\n",
       "      <th>4</th>\n",
       "      <td>1001</td>\n",
       "      <td>October</td>\n",
       "      <td>393</td>\n",
       "      <td>65</td>\n",
       "      <td>53</td>\n",
       "      <td>50</td>\n",
       "      <td>Seattle-Tacoma-Bellevue, WA MSA</td>\n",
       "      <td>surf</td>\n",
       "      <td>0</td>\n",
       "      <td>3</td>\n",
       "      <td>35</td>\n",
       "      <td>350.09</td>\n",
       "    </tr>\n",
       "  </tbody>\n",
       "</table>\n",
       "</div>"
      ],
      "text/plain": [
       "   user_id     month  minutes_used_per_month  calls_used_per_month  \\\n",
       "0     1000  December                     124                    16   \n",
       "1     1001    August                     182                    27   \n",
       "2     1001  December                     412                    56   \n",
       "3     1001  November                     426                    64   \n",
       "4     1001   October                     393                    65   \n",
       "\n",
       "   menssages_used_per_month  gb_used_per_month  \\\n",
       "0                        11                  4   \n",
       "1                        30                 21   \n",
       "2                        44                 55   \n",
       "3                        36                 49   \n",
       "4                        53                 50   \n",
       "\n",
       "                                    city      plan  dif_minutes  dif_messages  \\\n",
       "0  Atlanta-Sandy Springs-Roswell, GA MSA  ultimate            0             0   \n",
       "1        Seattle-Tacoma-Bellevue, WA MSA      surf            0             0   \n",
       "2        Seattle-Tacoma-Bellevue, WA MSA      surf            0             0   \n",
       "3        Seattle-Tacoma-Bellevue, WA MSA      surf            0             0   \n",
       "4        Seattle-Tacoma-Bellevue, WA MSA      surf            0             3   \n",
       "\n",
       "   dif_gb  monthly_revenue  \n",
       "0       0             0.00  \n",
       "1       6            60.00  \n",
       "2      40           400.00  \n",
       "3      34           340.00  \n",
       "4      35           350.09  "
      ]
     },
     "execution_count": 37,
     "metadata": {},
     "output_type": "execute_result"
    }
   ],
   "source": [
    "revenue_month.head()"
   ]
  },
  {
   "cell_type": "code",
   "execution_count": 38,
   "id": "427b6123",
   "metadata": {
    "scrolled": true
   },
   "outputs": [],
   "source": [
    "# Criando dataframe para plano 'surf'\n",
    "surf = revenue_month.loc[revenue_month['plan']==\"surf\"]\n",
    "\n",
    "# Criando dataframe para plano 'ultimate'\n",
    "ultimate = revenue_month.loc[revenue_month['plan']==\"ultimate\"]"
   ]
  },
  {
   "cell_type": "markdown",
   "id": "3f9eeafa",
   "metadata": {},
   "source": [
    "### Surf\n",
    "**Encontre os minutos, mensagens de texto e volume de dados de usuários. Calcule a média, variância e o desvio padrão. Construa histogramas. Descreva as distribuições.**"
   ]
  },
  {
   "cell_type": "markdown",
   "id": "01a1aa06",
   "metadata": {},
   "source": [
    "#### Minutos de Surf - Mensal"
   ]
  },
  {
   "cell_type": "code",
   "execution_count": 39,
   "id": "035f354a",
   "metadata": {},
   "outputs": [
    {
     "data": {
      "text/plain": [
       "55274.53007397303"
      ]
     },
     "execution_count": 39,
     "metadata": {},
     "output_type": "execute_result"
    }
   ],
   "source": [
    "# Encontrando variancia de minutos\n",
    "np.var(surf['minutes_used_per_month'])"
   ]
  },
  {
   "cell_type": "code",
   "execution_count": 40,
   "id": "b486837e",
   "metadata": {},
   "outputs": [
    {
     "data": {
      "text/plain": [
       "count    1180.000000\n",
       "mean      445.775424\n",
       "std       235.205044\n",
       "min         2.000000\n",
       "25%       288.000000\n",
       "50%       439.000000\n",
       "75%       587.250000\n",
       "max      1510.000000\n",
       "Name: minutes_used_per_month, dtype: float64"
      ]
     },
     "execution_count": 40,
     "metadata": {},
     "output_type": "execute_result"
    }
   ],
   "source": [
    "# Encontrando desvio padrão e média de minutos\n",
    "surf['minutes_used_per_month'].describe()"
   ]
  },
  {
   "cell_type": "code",
   "execution_count": 41,
   "id": "6e694387",
   "metadata": {},
   "outputs": [
    {
     "data": {
      "image/png": "[encoded data removed]",
      "text/plain": [
       "<Figure size 432x288 with 1 Axes>"
      ]
     },
     "metadata": {
      "needs_background": "light"
     },
     "output_type": "display_data"
    }
   ],
   "source": [
    "# Criando histograma para minutos usados\n",
    "surf['minutes_used_per_month'].hist()\n",
    "# Adicionando titulo ao histogrma\n",
    "plt.title('Surf - Minutes used per month')\n",
    "# Adicionando um rotulo no eixo y\n",
    "plt.ylabel('Count')\n",
    "# Adicionando um rotulo no eixo x\n",
    "plt.xlabel('Minutes')\n",
    "plt.show()"
   ]
  },
  {
   "cell_type": "markdown",
   "id": "c50eaeb7",
   "metadata": {},
   "source": [
    "**Podemos observar um pico por volta dos 350 minutos a 400 minutos e uma calda a direita do histograma. Não temos uma grande diferença entre a média e a mediana oque nos leva a concluir que não possui muitos valores atipicos.**"
   ]
  },
  {
   "cell_type": "markdown",
   "id": "515b53db",
   "metadata": {},
   "source": [
    "#### Mensagens de Surf - Mensal"
   ]
  },
  {
   "cell_type": "code",
   "execution_count": 42,
   "id": "b448c91b",
   "metadata": {},
   "outputs": [
    {
     "data": {
      "text/plain": [
       "1043.3329474288994"
      ]
     },
     "execution_count": 42,
     "metadata": {},
     "output_type": "execute_result"
    }
   ],
   "source": [
    "# Encontrando variancia de minutos\n",
    "np.var(surf['menssages_used_per_month'])"
   ]
  },
  {
   "cell_type": "code",
   "execution_count": 43,
   "id": "54bc6b6d",
   "metadata": {
    "scrolled": false
   },
   "outputs": [
    {
     "data": {
      "text/plain": [
       "count    1180.000000\n",
       "mean       39.489831\n",
       "std        32.314360\n",
       "min         1.000000\n",
       "25%        16.000000\n",
       "50%        32.000000\n",
       "75%        53.000000\n",
       "max       266.000000\n",
       "Name: menssages_used_per_month, dtype: float64"
      ]
     },
     "execution_count": 43,
     "metadata": {},
     "output_type": "execute_result"
    }
   ],
   "source": [
    "# Encontrando desvio padrão e média de minutos\n",
    "surf['menssages_used_per_month'].describe()"
   ]
  },
  {
   "cell_type": "code",
   "execution_count": 44,
   "id": "e7ff3fdc",
   "metadata": {
    "scrolled": true
   },
   "outputs": [
    {
     "data": {
      "image/png": "[encoded data removed]",
      "text/plain": [
       "<Figure size 432x288 with 1 Axes>"
      ]
     },
     "metadata": {
      "needs_background": "light"
     },
     "output_type": "display_data"
    }
   ],
   "source": [
    "# Criando histograma para minutos usados\n",
    "surf['menssages_used_per_month'].hist(bins = 40)\n",
    "# Adicionando titulo ao histogrma\n",
    "plt.title('Surf - Menssages used per month')\n",
    "# Adicionando um rotulo no eixo y\n",
    "plt.ylabel('Count')\n",
    "# Adicionando um rotulo no eixo x\n",
    "plt.xlabel('Mensagens')\n",
    "plt.show()"
   ]
  },
  {
   "cell_type": "markdown",
   "id": "db6d67ca",
   "metadata": {},
   "source": [
    "**Podemos observar um pico por volta de 0 mensagens e 30 mensagens e uma calda a direita do histograma. E temos uma calda a direta.** "
   ]
  },
  {
   "cell_type": "markdown",
   "id": "2a1fe1ca",
   "metadata": {},
   "source": [
    "#### Volume de dados de Surf - Mensal"
   ]
  },
  {
   "cell_type": "code",
   "execution_count": 45,
   "id": "b9ecfcc9",
   "metadata": {},
   "outputs": [
    {
     "data": {
      "text/plain": [
       "300.98461002585566"
      ]
     },
     "execution_count": 45,
     "metadata": {},
     "output_type": "execute_result"
    }
   ],
   "source": [
    "# Encontrando variancia de minutos\n",
    "np.var(surf['gb_used_per_month'])"
   ]
  },
  {
   "cell_type": "code",
   "execution_count": 46,
   "id": "db1f647b",
   "metadata": {
    "scrolled": true
   },
   "outputs": [
    {
     "data": {
      "text/plain": [
       "count    1180.000000\n",
       "mean       40.268644\n",
       "std        17.356264\n",
       "min         1.000000\n",
       "25%        31.000000\n",
       "50%        41.500000\n",
       "75%        51.000000\n",
       "max       132.000000\n",
       "Name: gb_used_per_month, dtype: float64"
      ]
     },
     "execution_count": 46,
     "metadata": {},
     "output_type": "execute_result"
    }
   ],
   "source": [
    "# Encontrando desvio padrão e média de minutos\n",
    "surf['gb_used_per_month'].describe()"
   ]
  },
  {
   "cell_type": "code",
   "execution_count": 47,
   "id": "402e70df",
   "metadata": {
    "scrolled": true
   },
   "outputs": [
    {
     "data": {
      "image/png": "[encoded data removed]",
      "text/plain": [
       "<Figure size 432x288 with 1 Axes>"
      ]
     },
     "metadata": {
      "needs_background": "light"
     },
     "output_type": "display_data"
    }
   ],
   "source": [
    "# Criando histograma para minutos usados\n",
    "surf['gb_used_per_month'].hist(bins=25)\n",
    "# Adicionando titulo ao histogrma\n",
    "plt.title('Surf - Gigabytes used per month')\n",
    "# Adicionando um rotulo no eixo y\n",
    "plt.ylabel('Count')\n",
    "# Adicionando um rotulo no eixo x\n",
    "plt.xlabel('Gigabytes')\n",
    "plt.show()"
   ]
  },
  {
   "cell_type": "markdown",
   "id": "dada2013",
   "metadata": {},
   "source": [
    "**Podemos observar um pico por volta de 40 gb e 40 gb. Também não temos uma grande diferença entre a média e a mediana oque nos leva a concluir que não possui muitos valores atipicos.**"
   ]
  },
  {
   "cell_type": "markdown",
   "id": "bee7ce6f",
   "metadata": {},
   "source": [
    "### Ultimate\n",
    "**Encontre os minutos, mensagens de texto e volume de dados de usuários. Calcule a média, variância e o desvio padrão. Construa histogramas. Descreva as distribuições.**"
   ]
  },
  {
   "cell_type": "markdown",
   "id": "63691680",
   "metadata": {},
   "source": [
    "#### Minutos de Ultimate - Mensal"
   ]
  },
  {
   "cell_type": "code",
   "execution_count": 48,
   "id": "3ba863d1",
   "metadata": {},
   "outputs": [
    {
     "data": {
      "text/plain": [
       "62180.8197803967"
      ]
     },
     "execution_count": 48,
     "metadata": {},
     "output_type": "execute_result"
    }
   ],
   "source": [
    "# Encontrando variancia de minutos\n",
    "np.var(ultimate['minutes_used_per_month'])"
   ]
  },
  {
   "cell_type": "code",
   "execution_count": 49,
   "id": "3df63032",
   "metadata": {},
   "outputs": [
    {
     "data": {
      "text/plain": [
       "count     579.000000\n",
       "mean      442.512953\n",
       "std       249.576439\n",
       "min         0.000000\n",
       "25%       262.500000\n",
       "50%       424.000000\n",
       "75%       582.500000\n",
       "max      1369.000000\n",
       "Name: minutes_used_per_month, dtype: float64"
      ]
     },
     "execution_count": 49,
     "metadata": {},
     "output_type": "execute_result"
    }
   ],
   "source": [
    "# Encontrando desvio padrão e média de minutos\n",
    "ultimate['minutes_used_per_month'].describe()"
   ]
  },
  {
   "cell_type": "code",
   "execution_count": 50,
   "id": "2509de03",
   "metadata": {},
   "outputs": [
    {
     "data": {
      "image/png": "[encoded data removed]",
      "text/plain": [
       "<Figure size 432x288 with 1 Axes>"
      ]
     },
     "metadata": {
      "needs_background": "light"
     },
     "output_type": "display_data"
    }
   ],
   "source": [
    "# Criando histograma para minutos usados\n",
    "ultimate['minutes_used_per_month'].hist()\n",
    "# Adicionando titulo ao histogrma\n",
    "plt.title('Ultimate - Minutes used per month')\n",
    "# Adicionando um rotulo no eixo y\n",
    "plt.ylabel('Count')\n",
    "# Adicionando um rotulo no eixo x\n",
    "plt.xlabel('Minutes')\n",
    "plt.show()"
   ]
  },
  {
   "cell_type": "markdown",
   "id": "ee6c4756",
   "metadata": {},
   "source": [
    "**Podemos observar um pico por volta dos 450 minutos e uma calda a direita do histograma. Não temos uma grande diferença entre a média e a mediana oque nos leva a concluir que não possui muitos valores atipicos.**"
   ]
  },
  {
   "cell_type": "markdown",
   "id": "ef695d7c",
   "metadata": {},
   "source": [
    "#### Mensagens de Ultimate - Mensal"
   ]
  },
  {
   "cell_type": "code",
   "execution_count": 51,
   "id": "c27f80df",
   "metadata": {},
   "outputs": [
    {
     "data": {
      "text/plain": [
       "1082.5209446338608"
      ]
     },
     "execution_count": 51,
     "metadata": {},
     "output_type": "execute_result"
    }
   ],
   "source": [
    "# Encontrando variancia de minutos\n",
    "np.var(ultimate['menssages_used_per_month'])"
   ]
  },
  {
   "cell_type": "code",
   "execution_count": 52,
   "id": "0bde42e4",
   "metadata": {
    "scrolled": true
   },
   "outputs": [
    {
     "data": {
      "text/plain": [
       "count    579.000000\n",
       "mean      46.455959\n",
       "std       32.930135\n",
       "min        1.000000\n",
       "25%       21.000000\n",
       "50%       41.000000\n",
       "75%       66.000000\n",
       "max      166.000000\n",
       "Name: menssages_used_per_month, dtype: float64"
      ]
     },
     "execution_count": 52,
     "metadata": {},
     "output_type": "execute_result"
    }
   ],
   "source": [
    "# Encontrando desvio padrão e média de minutos\n",
    "ultimate['menssages_used_per_month'].describe()"
   ]
  },
  {
   "cell_type": "code",
   "execution_count": 53,
   "id": "b4e3cd3a",
   "metadata": {},
   "outputs": [
    {
     "data": {
      "image/png": "[encoded data removed]",
      "text/plain": [
       "<Figure size 432x288 with 1 Axes>"
      ]
     },
     "metadata": {
      "needs_background": "light"
     },
     "output_type": "display_data"
    }
   ],
   "source": [
    "# Criando histograma para minutos usados\n",
    "ultimate['menssages_used_per_month'].hist(bins = 40)\n",
    "# Adicionando titulo ao histogrma\n",
    "plt.title('Ultimate - Menssages used per month')\n",
    "# Adicionando um rotulo no eixo y\n",
    "plt.ylabel('Count')\n",
    "# Adicionando um rotulo no eixo x\n",
    "plt.xlabel('Mensagens')\n",
    "plt.show()"
   ]
  },
  {
   "cell_type": "markdown",
   "id": "72489f3a",
   "metadata": {},
   "source": [
    "**Podemos observar um pico por volta de 0 mensagens e 40 mensagens e uma calda a direita do histograma.** "
   ]
  },
  {
   "cell_type": "markdown",
   "id": "2585e0fb",
   "metadata": {},
   "source": [
    "#### Volume de dados de Ultimate - Mensal"
   ]
  },
  {
   "cell_type": "code",
   "execution_count": 54,
   "id": "d33bfd8f",
   "metadata": {},
   "outputs": [
    {
     "data": {
      "text/plain": [
       "249.22192094642355"
      ]
     },
     "execution_count": 54,
     "metadata": {},
     "output_type": "execute_result"
    }
   ],
   "source": [
    "# Encontrando variancia de minutos\n",
    "np.var(ultimate['gb_used_per_month'])"
   ]
  },
  {
   "cell_type": "code",
   "execution_count": 55,
   "id": "26961cae",
   "metadata": {},
   "outputs": [
    {
     "data": {
      "text/plain": [
       "count    579.000000\n",
       "mean      41.134715\n",
       "std       15.800415\n",
       "min        1.000000\n",
       "25%       32.500000\n",
       "50%       42.000000\n",
       "75%       51.000000\n",
       "max       96.000000\n",
       "Name: gb_used_per_month, dtype: float64"
      ]
     },
     "execution_count": 55,
     "metadata": {},
     "output_type": "execute_result"
    }
   ],
   "source": [
    "# Encontrando desvio padrão e média de minutos\n",
    "ultimate['gb_used_per_month'].describe()"
   ]
  },
  {
   "cell_type": "code",
   "execution_count": 56,
   "id": "3e121499",
   "metadata": {
    "scrolled": true
   },
   "outputs": [
    {
     "data": {
      "image/png": "[encoded data removed]",
      "text/plain": [
       "<Figure size 432x288 with 1 Axes>"
      ]
     },
     "metadata": {
      "needs_background": "light"
     },
     "output_type": "display_data"
    }
   ],
   "source": [
    "# Criando histograma para minutos usados\n",
    "ultimate['gb_used_per_month'].hist(bins=25)\n",
    "# Adicionando titulo ao histogrma\n",
    "plt.title('Ultimate - Gigabytes used per month')\n",
    "# Adicionando um rotulo no eixo y\n",
    "plt.ylabel('Count')\n",
    "# Adicionando um rotulo no eixo x\n",
    "plt.xlabel('Gigabytes')\n",
    "plt.show()"
   ]
  },
  {
   "cell_type": "markdown",
   "id": "8f99cc2f",
   "metadata": {},
   "source": [
    "**Podemos observar um pico por volta de 40 gb e 50 gb. Também não temos uma grande diferença entre a média e a mediana oque nos leva a concluir que não possui muitos valores atipicos. Temos uma distribução que se asemelha a uma distribuição normal**"
   ]
  },
  {
   "cell_type": "markdown",
   "id": "b5d385ca",
   "metadata": {},
   "source": [
    "### Conclusão\n"
   ]
  },
  {
   "cell_type": "markdown",
   "id": "d782e5ac",
   "metadata": {},
   "source": [
    "- Temos um pouco mais de minutos utilizados pelos usuarios do plano `Surf`\n",
    "- Temos um número maior de mensagens usadas pelos usuarios do plano `Ultimate`\n",
    "- Já para o uso de dados temos algo muito semelhante entre os planos \n",
    "\n",
    "**Em resumo podemos perceber um uso semelhante entre os usuarios dos dois planos, mas temos um mais valores discrepantes no plano `Surf`**"
   ]
  },
  {
   "cell_type": "markdown",
   "id": "0ebf7c85",
   "metadata": {},
   "source": [
    "## Testando as hipóteses"
   ]
  },
  {
   "cell_type": "markdown",
   "id": "6717e73f",
   "metadata": {},
   "source": [
    "**A receita média dos usuários dos planos Ultimate e Surf são diferentes.\n",
    "A receita média dos usuários da área de NY-NJ é diferente dos usuários de outras regiões.**"
   ]
  },
  {
   "cell_type": "markdown",
   "id": "891ff9f2",
   "metadata": {},
   "source": [
    "### A receita média dos usuários dos planos Ultimate e Surf são diferentes. "
   ]
  },
  {
   "cell_type": "markdown",
   "id": "f80851db",
   "metadata": {},
   "source": [
    "- **Hipótese nula:** A receita média dos usuários dos planos são iguais.\n",
    "- **Hipótese alternativa:** A receita média dos usuários dos planos são diferentes."
   ]
  },
  {
   "cell_type": "code",
   "execution_count": 57,
   "id": "a40db30e",
   "metadata": {},
   "outputs": [
    {
     "data": {
      "text/plain": [
       "25476.564128142683"
      ]
     },
     "execution_count": 57,
     "metadata": {},
     "output_type": "execute_result"
    }
   ],
   "source": [
    "# Verificando a variancia\n",
    "np.var(surf['monthly_revenue'])"
   ]
  },
  {
   "cell_type": "code",
   "execution_count": 58,
   "id": "0e649800",
   "metadata": {},
   "outputs": [
    {
     "data": {
      "text/plain": [
       "7147.978940523355"
      ]
     },
     "execution_count": 58,
     "metadata": {},
     "output_type": "execute_result"
    }
   ],
   "source": [
    "# Verificando a variancia\n",
    "np.var(ultimate['monthly_revenue'])"
   ]
  },
  {
   "cell_type": "code",
   "execution_count": 59,
   "id": "573ae0ef",
   "metadata": {},
   "outputs": [
    {
     "name": "stdout",
     "output_type": "stream",
     "text": [
      "p-value: 2.074816866663172e-149\n",
      "Nós não podemos rejeitar a hipótese nula\n"
     ]
    }
   ],
   "source": [
    "# Definiindo nível crítico de significância estatística\n",
    "alpha = 0.05\n",
    "\n",
    "# Testando a hipótese de que as médias das duas populações são diferentes\n",
    "results = st.ttest_ind(surf['monthly_revenue'],ultimate['monthly_revenue'],equal_var=False)\n",
    "\n",
    "# Imprimindo o valor-p obtido\n",
    "print('p-value:',results.pvalue)\n",
    "\n",
    "# Comparando o valor-p obtido com o nível de significância\n",
    "if (results.pvalue<alpha):\n",
    "    print(\"Nós não podemos rejeitar a hipótese nula\")\n",
    "else:\n",
    "    print(\"Nós rejeitamos a hipótese nula\")"
   ]
  },
  {
   "cell_type": "markdown",
   "id": "2176761c",
   "metadata": {},
   "source": [
    "#### Conclusão"
   ]
  },
  {
   "cell_type": "markdown",
   "id": "aba47c13",
   "metadata": {},
   "source": [
    "**Podemos obsevar que provalvemente as receitas dos planos são diferentes.**"
   ]
  },
  {
   "cell_type": "markdown",
   "id": "4e8fe5b2",
   "metadata": {},
   "source": [
    "### A receita média dos usuários da área de NY-NJ é diferente dos usuários de outras regiões."
   ]
  },
  {
   "cell_type": "markdown",
   "id": "ffa77024",
   "metadata": {},
   "source": [
    "- **Hipótese nula:** A receita média dos usuários da área de NY-NJ é igual a de usuários de outras regiões.\n",
    "- **Hipótese alternativa:** A receita média dos usuários da área de NY-NJ é diferente dos usuários de outras regiões."
   ]
  },
  {
   "cell_type": "code",
   "execution_count": 60,
   "id": "ff4939aa",
   "metadata": {},
   "outputs": [
    {
     "data": {
      "text/plain": [
       "New York-Newark-Jersey City, NY-NJ-PA MSA          279\n",
       "Los Angeles-Long Beach-Anaheim, CA MSA             112\n",
       "Chicago-Naperville-Elgin, IL-IN-WI MSA              66\n",
       "Philadelphia-Camden-Wilmington, PA-NJ-DE-MD MSA     62\n",
       "Dallas-Fort Worth-Arlington, TX MSA                 56\n",
       "                                                  ... \n",
       "Jacksonville, FL MSA                                 2\n",
       "Dayton-Kettering, OH MSA                             2\n",
       "El Paso, TX MSA                                      2\n",
       "North Port-Sarasota-Bradenton, FL MSA                1\n",
       "Cape Coral-Fort Myers, FL MSA                        1\n",
       "Name: city, Length: 72, dtype: int64"
      ]
     },
     "execution_count": 60,
     "metadata": {},
     "output_type": "execute_result"
    }
   ],
   "source": [
    "revenue_month['city'].value_counts()"
   ]
  },
  {
   "cell_type": "code",
   "execution_count": 61,
   "id": "0e67d18f",
   "metadata": {},
   "outputs": [],
   "source": [
    "# Filtrando coluna 'city' para achar valores que contém 'NY-NJ' e criar nova coluna chamada 'regions'\n",
    "revenue_month['regions'] = revenue_month['city'].loc[revenue_month['city'].str.contains('NY-NJ')]\n",
    "\n",
    "# Substituindo valores ausentes da coluna 'regions' para 'other'\n",
    "revenue_month['regions'] = revenue_month['regions'].fillna('other')"
   ]
  },
  {
   "cell_type": "code",
   "execution_count": 62,
   "id": "c9b6e8af",
   "metadata": {},
   "outputs": [],
   "source": [
    "# Criando dataframe para outras regiões\n",
    "other = revenue_month.loc[revenue_month['regions']=='other']\n",
    "\n",
    "# Criando dataframe para outras NY-NJ\n",
    "ny_nj = revenue_month.loc[revenue_month['regions'].str.contains('NY-NJ')]"
   ]
  },
  {
   "cell_type": "code",
   "execution_count": 63,
   "id": "bf47a36b",
   "metadata": {},
   "outputs": [
    {
     "data": {
      "text/plain": [
       "26574.59129008829"
      ]
     },
     "execution_count": 63,
     "metadata": {},
     "output_type": "execute_result"
    }
   ],
   "source": [
    "# Verificando a variancia\n",
    "np.var(other['monthly_revenue'])"
   ]
  },
  {
   "cell_type": "code",
   "execution_count": 64,
   "id": "6c544b5b",
   "metadata": {},
   "outputs": [
    {
     "data": {
      "text/plain": [
       "20517.949774095905"
      ]
     },
     "execution_count": 64,
     "metadata": {},
     "output_type": "execute_result"
    }
   ],
   "source": [
    "# Verificando a variancia\n",
    "np.var(ny_nj['monthly_revenue'])"
   ]
  },
  {
   "cell_type": "code",
   "execution_count": 65,
   "id": "54de0f31",
   "metadata": {},
   "outputs": [
    {
     "name": "stdout",
     "output_type": "stream",
     "text": [
      "p-value: 0.06120684402322759\n",
      "Nós rejeitamos a hipótese nula\n"
     ]
    }
   ],
   "source": [
    "# Definiindo nível crítico de significância estatística\n",
    "alpha = 0.05\n",
    "\n",
    "# Testando a hipótese de que as médias das duas populações são diferentes\n",
    "results = st.ttest_ind(other['monthly_revenue'],ny_nj['monthly_revenue'],equal_var=False)\n",
    "                     \n",
    "# Imprimindo o valor-p obtido\n",
    "print('p-value:',results.pvalue)\n",
    "\n",
    "# Comparando o valor-p obtido com o nível de significância\n",
    "if (results.pvalue<alpha):\n",
    "    print(\"Nós não podemos rejeitar a hipótese nula\")\n",
    "else:\n",
    "    print(\"Nós rejeitamos a hipótese nula\")"
   ]
  },
  {
   "cell_type": "markdown",
   "id": "ff44eee2",
   "metadata": {},
   "source": [
    "#### Conclusão"
   ]
  },
  {
   "cell_type": "markdown",
   "id": "f5bbed52",
   "metadata": {},
   "source": [
    "**Podemos obsevar que provalvemente as receitas dos planos na região de NY-NJ como em outras regiões são iguais.**"
   ]
  },
  {
   "cell_type": "markdown",
   "id": "dee3b01c",
   "metadata": {},
   "source": [
    "## Conclusão Geral"
   ]
  },
  {
   "cell_type": "markdown",
   "id": "a611b537",
   "metadata": {},
   "source": [
    "Observamos que os valores médios dos dois planos tem comportamentos semelhantes, também fizemos testes de hipoteses que tiramos as conclusões que as receitas mensais dos planos provavelmente são iguais e que provavelmente a receitas mensais dos planos em NY-NJ são diferentes de outras regiões."
   ]
  }
 ],
 "metadata": {
  "kernelspec": {
   "display_name": "Python 3 (ipykernel)",
   "language": "python",
   "name": "python3"
  },
  "language_info": {
   "codemirror_mode": {
    "name": "ipython",
    "version": 3
   },
   "file_extension": ".py",
   "mimetype": "text/x-python",
   "name": "python",
   "nbconvert_exporter": "python",
   "pygments_lexer": "ipython3",
   "version": "3.9.12"
  },
  "toc": {
   "base_numbering": 1,
   "nav_menu": {},
   "number_sections": true,
   "sideBar": true,
   "skip_h1_title": false,
   "title_cell": "Table of Contents",
   "title_sidebar": "Contents",
   "toc_cell": false,
   "toc_position": {
    "height": "calc(100% - 180px)",
    "left": "10px",
    "top": "150px",
    "width": "190.994px"
   },
   "toc_section_display": true,
   "toc_window_display": true
  },
  "varInspector": {
   "cols": {
    "lenName": 16,
    "lenType": 16,
    "lenVar": 40
   },
   "kernels_config": {
    "python": {
     "delete_cmd_postfix": "",
     "delete_cmd_prefix": "del ",
     "library": "var_list.py",
     "varRefreshCmd": "print(var_dic_list())"
    },
    "r": {
     "delete_cmd_postfix": ") ",
     "delete_cmd_prefix": "rm(",
     "library": "var_list.r",
     "varRefreshCmd": "cat(var_dic_list()) "
    }
   },
   "types_to_exclude": [
    "module",
    "function",
    "builtin_function_or_method",
    "instance",
    "_Feature"
   ],
   "window_display": false
  }
 },
 "nbformat": 4,
 "nbformat_minor": 5
}
